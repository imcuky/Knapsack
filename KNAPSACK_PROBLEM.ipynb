{
  "cells": [
    {
      "cell_type": "markdown",
      "metadata": {
        "id": "view-in-github",
        "colab_type": "text"
      },
      "source": [
        "<a href=\"https://colab.research.google.com/github/imcuky/Knapsack/blob/main/KNAPSACK_PROBLEM.ipynb\" target=\"_parent\"><img src=\"https://colab.research.google.com/assets/colab-badge.svg\" alt=\"Open In Colab\"/></a>"
      ]
    },
    {
      "cell_type": "markdown",
      "metadata": {
        "id": "SPeulvp-meob"
      },
      "source": [
        "##**EMPIRICAL STUDY OF KNAPSACK PROBLEM**"
      ]
    },
    {
      "cell_type": "markdown",
      "metadata": {
        "id": "Yq6OGiMX_da0"
      },
      "source": [
        "# **2. Knapsack Problem**\n",
        "\n",
        "The Knapsack Problem is a problem in combinatorial optimization. Given a set of items, each with a weight and a value, the goal is to determine which items to include in a collection so that the total weight is less than or equal to a given capacity and the total value is as large as possible.\n",
        "\n",
        "In this assignment, we will implement the 0-1 Knapsack Problem, which restricts each item pick (1) or not pick (0).\n",
        "\n",
        "We would like to test four different algorithms: generate and test (brute force), greedy, simulated annealing and genetic algorithm to find which one provides the best tradeoffs, namely in the algorithm's runtime and the accuracy of its solution. The solution we are referring to refers to the best combination of items that will maximize the price without exceeding its specified max capacity/weight.\n"
      ]
    },
    {
      "cell_type": "markdown",
      "metadata": {
        "id": "C8vwHE0G_iOG"
      },
      "source": [
        "# **3. Dataset**\n"
      ]
    },
    {
      "cell_type": "markdown",
      "source": [
        "The dataset that will be use for Knapsack Problem was retrieved from Kaggle created by Chirag Chauhan, you can find it <a href = \"https://www.kaggle.com/datasets/warcoder/knapsack-problem?resource=download\">here<a>.\n",
        "\n",
        "Dataset Name: **knapsack_5_items.csv**\n",
        "\n",
        "**Contents:**\n",
        "\n",
        "- `Weights`: This column provide the weights of the items, representing how heavy each item is.\n",
        "\n",
        "- `Prices`: This column provide the values associated with each item. These values represent the profit that you gain by including each item in the knapsack.\n",
        "\n",
        "- `Capacity`: This column provide the capacity (maximum weight) that the knapsack can hold.\n",
        "\n",
        "- `Best Picks`: This column provide the best combination of items that should be selected to maximize the value within the given capacity.\n",
        "\n",
        "- `Best Prices`: This column provide the expected optimal solution of the maximum profit."
      ],
      "metadata": {
        "id": "3POByMqyreB4"
      }
    },
    {
      "cell_type": "markdown",
      "metadata": {
        "id": "OZTWy1qN2BzY"
      },
      "source": [
        "**Import important libraries**"
      ]
    },
    {
      "cell_type": "code",
      "execution_count": null,
      "metadata": {
        "id": "GmP1buROhaOx"
      },
      "outputs": [],
      "source": [
        "import pandas as pd\n",
        "import itertools\n",
        "import numpy as np\n",
        "# import the matplot library for displaying the\n",
        "# change in paramarter on accuracy\n",
        "import matplotlib.pyplot as plt"
      ]
    },
    {
      "cell_type": "markdown",
      "metadata": {
        "id": "wNJyoeCz00Kr"
      },
      "source": [
        "**Read Dataset**\n"
      ]
    },
    {
      "cell_type": "code",
      "execution_count": null,
      "metadata": {
        "id": "BrhpM-HwhaOy"
      },
      "outputs": [],
      "source": [
        "url = \"https://raw.githubusercontent.com/imcuky/Knapsack/main/knapsack_5_items.csv\"\n",
        "\n",
        "dataset = pd.read_csv(url)"
      ]
    },
    {
      "cell_type": "markdown",
      "metadata": {
        "id": "4Drc71BY2a7w"
      },
      "source": [
        "Let's see what are the columns of the dataset? :"
      ]
    },
    {
      "cell_type": "code",
      "execution_count": null,
      "metadata": {
        "colab": {
          "base_uri": "https://localhost:8080/"
        },
        "id": "pGxZXmhNhaOz",
        "outputId": "a448666b-9ccb-478c-da89-3915830a2dc6"
      },
      "outputs": [
        {
          "output_type": "execute_result",
          "data": {
            "text/plain": [
              "Index(['Weights', 'Prices', 'Capacity', 'Best picks', 'Best price'], dtype='object')"
            ]
          },
          "metadata": {},
          "execution_count": 25
        }
      ],
      "source": [
        "dataset.columns"
      ]
    },
    {
      "cell_type": "markdown",
      "metadata": {
        "id": "aNZaqcCT2w-T"
      },
      "source": [
        "As we expected, we have columns for weights, costs, capacity, best picks and best price for all the instances."
      ]
    },
    {
      "cell_type": "markdown",
      "metadata": {
        "id": "jkokOHRj2kgZ"
      },
      "source": [
        "Now let's see the first 10 entries (rows):"
      ]
    },
    {
      "cell_type": "code",
      "execution_count": null,
      "metadata": {
        "colab": {
          "base_uri": "https://localhost:8080/",
          "height": 363
        },
        "id": "0xqfPrBEhaOz",
        "outputId": "dac46704-d7e7-44d1-af5a-555b31c2b298"
      },
      "outputs": [
        {
          "output_type": "execute_result",
          "data": {
            "text/plain": [
              "            Weights            Prices  Capacity        Best picks  Best price\n",
              "0  [46 40 42 38 10]  [12 19 19 15  8]        40  [0. 1. 0. 0. 0.]        19.0\n",
              "1  [11 31  4  6  7]  [ 2  8 18 16  3]        64  [1. 1. 1. 1. 1.]        47.0\n",
              "2  [32 49 27 37 24]  [19 16 16  4  1]        87  [1. 0. 1. 0. 1.]        36.0\n",
              "3  [20 35 22 23 16]  [19 17 19  9  1]        21  [1. 0. 0. 0. 0.]        19.0\n",
              "4  [ 7 12 19 13 20]  [10 11 18 15  5]        50  [0. 1. 1. 1. 0.]        44.0\n",
              "5  [27 10 25 25  7]  [13 19  7 16  3]        66  [1. 1. 0. 1. 0.]        48.0\n",
              "6  [21  2 33 45 26]  [ 1 14 10  6 13]        80  [0. 1. 1. 0. 1.]        37.0\n",
              "7  [37 27 39 14 25]  [18  7 15  4 13]        35  [0. 0. 0. 0. 1.]        13.0\n",
              "8  [ 1 48  4 23 39]  [ 9  4 10 16 12]        51  [1. 0. 1. 1. 0.]        35.0\n",
              "9  [ 4  3 22  9 32]  [14  6  3 17  8]        53  [1. 1. 0. 1. 1.]        45.0"
            ],
            "text/html": [
              "\n",
              "  <div id=\"df-055b8b8b-8f0f-41c8-b3a2-15229ba7899c\" class=\"colab-df-container\">\n",
              "    <div>\n",
              "<style scoped>\n",
              "    .dataframe tbody tr th:only-of-type {\n",
              "        vertical-align: middle;\n",
              "    }\n",
              "\n",
              "    .dataframe tbody tr th {\n",
              "        vertical-align: top;\n",
              "    }\n",
              "\n",
              "    .dataframe thead th {\n",
              "        text-align: right;\n",
              "    }\n",
              "</style>\n",
              "<table border=\"1\" class=\"dataframe\">\n",
              "  <thead>\n",
              "    <tr style=\"text-align: right;\">\n",
              "      <th></th>\n",
              "      <th>Weights</th>\n",
              "      <th>Prices</th>\n",
              "      <th>Capacity</th>\n",
              "      <th>Best picks</th>\n",
              "      <th>Best price</th>\n",
              "    </tr>\n",
              "  </thead>\n",
              "  <tbody>\n",
              "    <tr>\n",
              "      <th>0</th>\n",
              "      <td>[46 40 42 38 10]</td>\n",
              "      <td>[12 19 19 15  8]</td>\n",
              "      <td>40</td>\n",
              "      <td>[0. 1. 0. 0. 0.]</td>\n",
              "      <td>19.0</td>\n",
              "    </tr>\n",
              "    <tr>\n",
              "      <th>1</th>\n",
              "      <td>[11 31  4  6  7]</td>\n",
              "      <td>[ 2  8 18 16  3]</td>\n",
              "      <td>64</td>\n",
              "      <td>[1. 1. 1. 1. 1.]</td>\n",
              "      <td>47.0</td>\n",
              "    </tr>\n",
              "    <tr>\n",
              "      <th>2</th>\n",
              "      <td>[32 49 27 37 24]</td>\n",
              "      <td>[19 16 16  4  1]</td>\n",
              "      <td>87</td>\n",
              "      <td>[1. 0. 1. 0. 1.]</td>\n",
              "      <td>36.0</td>\n",
              "    </tr>\n",
              "    <tr>\n",
              "      <th>3</th>\n",
              "      <td>[20 35 22 23 16]</td>\n",
              "      <td>[19 17 19  9  1]</td>\n",
              "      <td>21</td>\n",
              "      <td>[1. 0. 0. 0. 0.]</td>\n",
              "      <td>19.0</td>\n",
              "    </tr>\n",
              "    <tr>\n",
              "      <th>4</th>\n",
              "      <td>[ 7 12 19 13 20]</td>\n",
              "      <td>[10 11 18 15  5]</td>\n",
              "      <td>50</td>\n",
              "      <td>[0. 1. 1. 1. 0.]</td>\n",
              "      <td>44.0</td>\n",
              "    </tr>\n",
              "    <tr>\n",
              "      <th>5</th>\n",
              "      <td>[27 10 25 25  7]</td>\n",
              "      <td>[13 19  7 16  3]</td>\n",
              "      <td>66</td>\n",
              "      <td>[1. 1. 0. 1. 0.]</td>\n",
              "      <td>48.0</td>\n",
              "    </tr>\n",
              "    <tr>\n",
              "      <th>6</th>\n",
              "      <td>[21  2 33 45 26]</td>\n",
              "      <td>[ 1 14 10  6 13]</td>\n",
              "      <td>80</td>\n",
              "      <td>[0. 1. 1. 0. 1.]</td>\n",
              "      <td>37.0</td>\n",
              "    </tr>\n",
              "    <tr>\n",
              "      <th>7</th>\n",
              "      <td>[37 27 39 14 25]</td>\n",
              "      <td>[18  7 15  4 13]</td>\n",
              "      <td>35</td>\n",
              "      <td>[0. 0. 0. 0. 1.]</td>\n",
              "      <td>13.0</td>\n",
              "    </tr>\n",
              "    <tr>\n",
              "      <th>8</th>\n",
              "      <td>[ 1 48  4 23 39]</td>\n",
              "      <td>[ 9  4 10 16 12]</td>\n",
              "      <td>51</td>\n",
              "      <td>[1. 0. 1. 1. 0.]</td>\n",
              "      <td>35.0</td>\n",
              "    </tr>\n",
              "    <tr>\n",
              "      <th>9</th>\n",
              "      <td>[ 4  3 22  9 32]</td>\n",
              "      <td>[14  6  3 17  8]</td>\n",
              "      <td>53</td>\n",
              "      <td>[1. 1. 0. 1. 1.]</td>\n",
              "      <td>45.0</td>\n",
              "    </tr>\n",
              "  </tbody>\n",
              "</table>\n",
              "</div>\n",
              "    <div class=\"colab-df-buttons\">\n",
              "\n",
              "  <div class=\"colab-df-container\">\n",
              "    <button class=\"colab-df-convert\" onclick=\"convertToInteractive('df-055b8b8b-8f0f-41c8-b3a2-15229ba7899c')\"\n",
              "            title=\"Convert this dataframe to an interactive table.\"\n",
              "            style=\"display:none;\">\n",
              "\n",
              "  <svg xmlns=\"http://www.w3.org/2000/svg\" height=\"24px\" viewBox=\"0 -960 960 960\">\n",
              "    <path d=\"M120-120v-720h720v720H120Zm60-500h600v-160H180v160Zm220 220h160v-160H400v160Zm0 220h160v-160H400v160ZM180-400h160v-160H180v160Zm440 0h160v-160H620v160ZM180-180h160v-160H180v160Zm440 0h160v-160H620v160Z\"/>\n",
              "  </svg>\n",
              "    </button>\n",
              "\n",
              "  <style>\n",
              "    .colab-df-container {\n",
              "      display:flex;\n",
              "      gap: 12px;\n",
              "    }\n",
              "\n",
              "    .colab-df-convert {\n",
              "      background-color: #E8F0FE;\n",
              "      border: none;\n",
              "      border-radius: 50%;\n",
              "      cursor: pointer;\n",
              "      display: none;\n",
              "      fill: #1967D2;\n",
              "      height: 32px;\n",
              "      padding: 0 0 0 0;\n",
              "      width: 32px;\n",
              "    }\n",
              "\n",
              "    .colab-df-convert:hover {\n",
              "      background-color: #E2EBFA;\n",
              "      box-shadow: 0px 1px 2px rgba(60, 64, 67, 0.3), 0px 1px 3px 1px rgba(60, 64, 67, 0.15);\n",
              "      fill: #174EA6;\n",
              "    }\n",
              "\n",
              "    .colab-df-buttons div {\n",
              "      margin-bottom: 4px;\n",
              "    }\n",
              "\n",
              "    [theme=dark] .colab-df-convert {\n",
              "      background-color: #3B4455;\n",
              "      fill: #D2E3FC;\n",
              "    }\n",
              "\n",
              "    [theme=dark] .colab-df-convert:hover {\n",
              "      background-color: #434B5C;\n",
              "      box-shadow: 0px 1px 3px 1px rgba(0, 0, 0, 0.15);\n",
              "      filter: drop-shadow(0px 1px 2px rgba(0, 0, 0, 0.3));\n",
              "      fill: #FFFFFF;\n",
              "    }\n",
              "  </style>\n",
              "\n",
              "    <script>\n",
              "      const buttonEl =\n",
              "        document.querySelector('#df-055b8b8b-8f0f-41c8-b3a2-15229ba7899c button.colab-df-convert');\n",
              "      buttonEl.style.display =\n",
              "        google.colab.kernel.accessAllowed ? 'block' : 'none';\n",
              "\n",
              "      async function convertToInteractive(key) {\n",
              "        const element = document.querySelector('#df-055b8b8b-8f0f-41c8-b3a2-15229ba7899c');\n",
              "        const dataTable =\n",
              "          await google.colab.kernel.invokeFunction('convertToInteractive',\n",
              "                                                    [key], {});\n",
              "        if (!dataTable) return;\n",
              "\n",
              "        const docLinkHtml = 'Like what you see? Visit the ' +\n",
              "          '<a target=\"_blank\" href=https://colab.research.google.com/notebooks/data_table.ipynb>data table notebook</a>'\n",
              "          + ' to learn more about interactive tables.';\n",
              "        element.innerHTML = '';\n",
              "        dataTable['output_type'] = 'display_data';\n",
              "        await google.colab.output.renderOutput(dataTable, element);\n",
              "        const docLink = document.createElement('div');\n",
              "        docLink.innerHTML = docLinkHtml;\n",
              "        element.appendChild(docLink);\n",
              "      }\n",
              "    </script>\n",
              "  </div>\n",
              "\n",
              "\n",
              "<div id=\"df-7908e7ee-22c6-460e-a478-f5168cedccd4\">\n",
              "  <button class=\"colab-df-quickchart\" onclick=\"quickchart('df-7908e7ee-22c6-460e-a478-f5168cedccd4')\"\n",
              "            title=\"Suggest charts.\"\n",
              "            style=\"display:none;\">\n",
              "\n",
              "<svg xmlns=\"http://www.w3.org/2000/svg\" height=\"24px\"viewBox=\"0 0 24 24\"\n",
              "     width=\"24px\">\n",
              "    <g>\n",
              "        <path d=\"M19 3H5c-1.1 0-2 .9-2 2v14c0 1.1.9 2 2 2h14c1.1 0 2-.9 2-2V5c0-1.1-.9-2-2-2zM9 17H7v-7h2v7zm4 0h-2V7h2v10zm4 0h-2v-4h2v4z\"/>\n",
              "    </g>\n",
              "</svg>\n",
              "  </button>\n",
              "\n",
              "<style>\n",
              "  .colab-df-quickchart {\n",
              "      --bg-color: #E8F0FE;\n",
              "      --fill-color: #1967D2;\n",
              "      --hover-bg-color: #E2EBFA;\n",
              "      --hover-fill-color: #174EA6;\n",
              "      --disabled-fill-color: #AAA;\n",
              "      --disabled-bg-color: #DDD;\n",
              "  }\n",
              "\n",
              "  [theme=dark] .colab-df-quickchart {\n",
              "      --bg-color: #3B4455;\n",
              "      --fill-color: #D2E3FC;\n",
              "      --hover-bg-color: #434B5C;\n",
              "      --hover-fill-color: #FFFFFF;\n",
              "      --disabled-bg-color: #3B4455;\n",
              "      --disabled-fill-color: #666;\n",
              "  }\n",
              "\n",
              "  .colab-df-quickchart {\n",
              "    background-color: var(--bg-color);\n",
              "    border: none;\n",
              "    border-radius: 50%;\n",
              "    cursor: pointer;\n",
              "    display: none;\n",
              "    fill: var(--fill-color);\n",
              "    height: 32px;\n",
              "    padding: 0;\n",
              "    width: 32px;\n",
              "  }\n",
              "\n",
              "  .colab-df-quickchart:hover {\n",
              "    background-color: var(--hover-bg-color);\n",
              "    box-shadow: 0 1px 2px rgba(60, 64, 67, 0.3), 0 1px 3px 1px rgba(60, 64, 67, 0.15);\n",
              "    fill: var(--button-hover-fill-color);\n",
              "  }\n",
              "\n",
              "  .colab-df-quickchart-complete:disabled,\n",
              "  .colab-df-quickchart-complete:disabled:hover {\n",
              "    background-color: var(--disabled-bg-color);\n",
              "    fill: var(--disabled-fill-color);\n",
              "    box-shadow: none;\n",
              "  }\n",
              "\n",
              "  .colab-df-spinner {\n",
              "    border: 2px solid var(--fill-color);\n",
              "    border-color: transparent;\n",
              "    border-bottom-color: var(--fill-color);\n",
              "    animation:\n",
              "      spin 1s steps(1) infinite;\n",
              "  }\n",
              "\n",
              "  @keyframes spin {\n",
              "    0% {\n",
              "      border-color: transparent;\n",
              "      border-bottom-color: var(--fill-color);\n",
              "      border-left-color: var(--fill-color);\n",
              "    }\n",
              "    20% {\n",
              "      border-color: transparent;\n",
              "      border-left-color: var(--fill-color);\n",
              "      border-top-color: var(--fill-color);\n",
              "    }\n",
              "    30% {\n",
              "      border-color: transparent;\n",
              "      border-left-color: var(--fill-color);\n",
              "      border-top-color: var(--fill-color);\n",
              "      border-right-color: var(--fill-color);\n",
              "    }\n",
              "    40% {\n",
              "      border-color: transparent;\n",
              "      border-right-color: var(--fill-color);\n",
              "      border-top-color: var(--fill-color);\n",
              "    }\n",
              "    60% {\n",
              "      border-color: transparent;\n",
              "      border-right-color: var(--fill-color);\n",
              "    }\n",
              "    80% {\n",
              "      border-color: transparent;\n",
              "      border-right-color: var(--fill-color);\n",
              "      border-bottom-color: var(--fill-color);\n",
              "    }\n",
              "    90% {\n",
              "      border-color: transparent;\n",
              "      border-bottom-color: var(--fill-color);\n",
              "    }\n",
              "  }\n",
              "</style>\n",
              "\n",
              "  <script>\n",
              "    async function quickchart(key) {\n",
              "      const quickchartButtonEl =\n",
              "        document.querySelector('#' + key + ' button');\n",
              "      quickchartButtonEl.disabled = true;  // To prevent multiple clicks.\n",
              "      quickchartButtonEl.classList.add('colab-df-spinner');\n",
              "      try {\n",
              "        const charts = await google.colab.kernel.invokeFunction(\n",
              "            'suggestCharts', [key], {});\n",
              "      } catch (error) {\n",
              "        console.error('Error during call to suggestCharts:', error);\n",
              "      }\n",
              "      quickchartButtonEl.classList.remove('colab-df-spinner');\n",
              "      quickchartButtonEl.classList.add('colab-df-quickchart-complete');\n",
              "    }\n",
              "    (() => {\n",
              "      let quickchartButtonEl =\n",
              "        document.querySelector('#df-7908e7ee-22c6-460e-a478-f5168cedccd4 button');\n",
              "      quickchartButtonEl.style.display =\n",
              "        google.colab.kernel.accessAllowed ? 'block' : 'none';\n",
              "    })();\n",
              "  </script>\n",
              "</div>\n",
              "    </div>\n",
              "  </div>\n"
            ]
          },
          "metadata": {},
          "execution_count": 26
        }
      ],
      "source": [
        "dataset.head(10)"
      ]
    },
    {
      "cell_type": "markdown",
      "metadata": {
        "id": "1dq9VpZh2r2A"
      },
      "source": [
        "**Preprocessing Step**\n",
        "\n",
        "Typically, the initial step in any project that involves reading and handling data is data preprocessing and cleansing.\n",
        "\n",
        "In our dataset, we expect the entries in the \"Weights,\" \"Prices,\" and \"Best Picks\" columns to be in the form of arrays of floats or integers, like this: [45, 40, 42, 38, 10]\n",
        "\n",
        "However, when you read each entry using pandas, they will be in a form of a string: \"[45 40 42 38 10]\"\n",
        "\n",
        "So we need to convert these strings into \"arrays of floats or integers.\n"
      ]
    },
    {
      "cell_type": "code",
      "execution_count": null,
      "metadata": {
        "id": "BmUtgrBchaOz"
      },
      "outputs": [],
      "source": [
        "def string_to_list(string):\n",
        "\n",
        "  string_list = string.strip('[]').split()\n",
        "\n",
        "  float_list = [float(element) for element in string_list]\n",
        "\n",
        "  return float_list"
      ]
    },
    {
      "cell_type": "markdown",
      "metadata": {
        "id": "CP1nkMb27A4n"
      },
      "source": [
        "Furthermore, it's possible that certain rows in the dataset contain empty values in specific columns. We also aim to eliminate these rows as they do not provide any useful information. We use dropna() function to do so:"
      ]
    },
    {
      "cell_type": "code",
      "execution_count": null,
      "metadata": {
        "id": "LT_iYgxhhaO0"
      },
      "outputs": [],
      "source": [
        "#Ignore the warning messages.\n",
        "\n",
        "# drop all null data set\n",
        "dataset = dataset.dropna()\n",
        "\n",
        "dataset.Weights = dataset.Weights.apply(lambda x : string_to_list(x))\n",
        "dataset.Prices = dataset.Prices.apply(lambda x : string_to_list(x))\n",
        "dataset['Best picks'] = dataset['Best picks'].apply(lambda x : string_to_list(x))"
      ]
    },
    {
      "cell_type": "markdown",
      "metadata": {
        "id": "0ER3-7di7ufy"
      },
      "source": [
        "# **4. Generate and Test**\n",
        "\n",
        "\n"
      ]
    },
    {
      "cell_type": "markdown",
      "source": [
        "Generate and Test is brute force algorithm that generates all possible solutions in the knapsack, and keeps track of the solution with the highest total price and has the following constraint: does not contain a weight that exceeds our max knapsack capacity.\n",
        "\n",
        "To solve the knapsack problem, we will generate all possible solutions by considering various combinations of items. In this particular knapsack instance, there are a total of 32 solutions (as there are $2^{5} = 32$ possible combinations). Subsequently, we will evaluate each of these solutions to determine the best one.\n"
      ],
      "metadata": {
        "id": "oW-P0AwmsJdJ"
      }
    },
    {
      "cell_type": "code",
      "execution_count": null,
      "metadata": {
        "id": "FqN5dVe7haO0"
      },
      "outputs": [],
      "source": [
        "def gen_and_test(data):\n",
        "  '''\n",
        "\n",
        "    This function generates all the possible solution for the knapsack and tests each one.\n",
        "\n",
        "    Input:\n",
        "      data - contains the infomation about the weights, costs, capacity of the knapsack problem\n",
        "\n",
        "    Returns:\n",
        "      best_solution_price - The best solution price of the knapsack problem\n",
        "      best_solution - The best solution of the knapsack problem\n",
        "\n",
        "  '''\n",
        "\n",
        "  # use to keep track of the best solution\n",
        "  best_solution = None\n",
        "  best_solution_price = 0\n",
        "\n",
        "  #bag info\n",
        "  max_wt = data['Capacity']\n",
        "\n",
        "  #items info\n",
        "  items_wts = data['Weights']\n",
        "  items_prices = data['Prices']\n",
        "  num_items = len(items_prices)\n",
        "\n",
        "\n",
        "  # for a solution of this knapsack, each item can be included (1) or not included (0)\n",
        "  # There's total of 5 items in this problem. Therefore, this will generate a maximum of 2^5(32)\n",
        "  # possibilities solutions for this knapsack\n",
        "  # each solution will be in range of (0,0,0,0,0) to (1,1,1,1,1)\n",
        "  sol_list = list(itertools.product(*[[0,1]]*num_items))\n",
        "\n",
        "\n",
        "  # we will use Brute Force to go through each possible solution\n",
        "  for _ in range(len(sol_list)):\n",
        "\n",
        "    #select the first solution from list\n",
        "    current_sol = sol_list.pop(0)\n",
        "\n",
        "    current_prices = 0\n",
        "    current_weights = 0\n",
        "\n",
        "    #loop throught the current result\n",
        "    for i in range(len(current_sol)):\n",
        "\n",
        "      #calculate the prices and the weights of the current solution\n",
        "      if current_sol[i] == 1:\n",
        "        current_prices += items_prices[i]\n",
        "        current_weights += items_wts[i]\n",
        "\n",
        "    # The test section\n",
        "    # if the current solution gives us a better price and it doesn't exceed the capacity\n",
        "    # then it will be our best solution so far\n",
        "    if current_weights <= max_wt and current_prices > best_solution_price:\n",
        "            best_solution = current_sol\n",
        "            best_solution_price = current_prices\n",
        "\n",
        "  #after iterating all the possible solution\n",
        "  # we can guarantee that we find the best solution amount the all\n",
        "  return best_solution_price, best_solution\n",
        "\n"
      ]
    },
    {
      "cell_type": "code",
      "execution_count": null,
      "metadata": {
        "id": "xQyI_WRShaO0"
      },
      "outputs": [],
      "source": [
        "solutions = []\n",
        "#go throught each row in the dataset\n",
        "#each row repersents a knapsack problem\n",
        "for _, row in dataset.iterrows():\n",
        "    # the best solution for the current knapsack\n",
        "    target = row['Best price']\n",
        "\n",
        "    # input the current knapsack row into the gen_and_test algo\n",
        "    # then get the solution from the gen_and_test algo\n",
        "    solution, indexes = gen_and_test(row)\n",
        "\n",
        "    # if the solution generate by the gen_and_test algo matches\n",
        "    # the best solution append 1 into the list\n",
        "    solutions.append(1 if target == solution else 0)\n",
        "\n",
        "\n"
      ]
    },
    {
      "cell_type": "code",
      "execution_count": null,
      "metadata": {
        "colab": {
          "base_uri": "https://localhost:8080/"
        },
        "id": "yodeAYV3haO0",
        "outputId": "dcd11c19-92ed-42af-d7e1-5752c3325e86"
      },
      "outputs": [
        {
          "output_type": "stream",
          "name": "stdout",
          "text": [
            "Accuracy of best prices found is 1.0\n"
          ]
        }
      ],
      "source": [
        "# Accuracy\n",
        "print('Accuracy of best prices found is', np.mean(solutions))"
      ]
    },
    {
      "cell_type": "markdown",
      "metadata": {
        "id": "sgYGIJMd-atd"
      },
      "source": [
        "**RESULTS / ANALYSIS**\n",
        "---\n",
        "This algorithm takes one individual knapsack object called \"data\". It first generates all possible permutations of 0s and 1s inside each knapsack and then runs a loop to increment both the price of the individual item inside the knapsack and it's corresponding weight when the permutation being tested is set to a string of '1'. From there, it updates the best solution (the correct knapsack permutation) and the best solution price (the best possible achievable total price), given that the weight does not surpass the total capacity (total weight) of the knapsack and that the total price of the current permutation exceeds that of the previous permutation.\n",
        "\n",
        "Upon testing the algorithm, it does indeed generate the correct output. However, the runtime of the algorithm is not-polynomial (exponential) because it is finding the permutation of all possible solutions based on the number of items contained in the knapsack. We would like to find alternative methods for which we can generate a solution with nearly as much accuracy, but run in non-exponential time."
      ]
    },
    {
      "cell_type": "markdown",
      "metadata": {
        "id": "5rQYdUQx-dGi"
      },
      "source": [
        "\n",
        "\n",
        "\n",
        "------------------------------------------------------------------------------------------------"
      ]
    },
    {
      "cell_type": "markdown",
      "metadata": {
        "id": "z8_ipXOGhaO1"
      },
      "source": [
        "# **5. Greedy Search**\n",
        "\n"
      ]
    },
    {
      "cell_type": "markdown",
      "source": [
        "The Greedy Search is a deterministic polynomial runtime algorithm that chooses items to first select into the knapsack in order of highest price divided by weight ratio until the remaining capacity cannot contain the next proceeding item, or if all the items are already included in the knapsack.\n",
        "\n",
        "The algorithm works by taking an individual knapsack object, and then running a for loop for which the price divided by weight of each knapsack item and its respective index value is appended to a list as a tuple. The list is then sorted in order of greatest to least, such that the knapsack item containing the highest price to weight will always be selected earlier than items with a lower ratio. By using the index to track the items with the highest ratio, we modify the best solution value and increment the weight of the items in order of highest ratio provided that the current weight does not exceed the capacity of the knapsack.\n"
      ],
      "metadata": {
        "id": "01JeGqPFsN5T"
      }
    },
    {
      "cell_type": "code",
      "execution_count": null,
      "metadata": {
        "id": "bAfwGLDkhaO2"
      },
      "outputs": [],
      "source": [
        "def greedy(data):\n",
        "  '''\n",
        "    Apply a greedy search approach to solve the knapsack problem.\n",
        "    The items are selected greedily based on their value-to-weight ratio.\n",
        "\n",
        "    Input:\n",
        "      data - contains the infomation about the weights, costs, capacity of the knapsack problem\n",
        "\n",
        "    Returns:\n",
        "      best_solution_price - The best solution price of the current knapsack\n",
        "      best_solution - The best solution of the current knapsack\n",
        "  '''\n",
        "\n",
        "  # use to keep track of the best solution\n",
        "  best_solution = ['0','0','0','0','0']\n",
        "  best_solution_price = 0\n",
        "\n",
        "  #box info\n",
        "  max_wt = data['Capacity']\n",
        "\n",
        "  #items info\n",
        "  items_wts = data['Weights']\n",
        "  items_prices = data['Prices']\n",
        "  num_items = len(items_prices)\n",
        "\n",
        "  # The strategy of the greedy algo:\n",
        "  # Pick the item with the highest 'value-to-weight' ratio\n",
        "\n",
        "  value_per_weight = []\n",
        "\n",
        "  for i in range (num_items):\n",
        "    # need to store the index since we will stort the list base on ratio from hight to low\n",
        "    value_per_weight.append( (items_prices[i]/items_wts[i], i) )\n",
        "\n",
        "  # We will sort the list in decreasing order in order to visit the\n",
        "  # items with the best 'value_per_weight' first\n",
        "  value_per_weight.sort(reverse=True)\n",
        "\n",
        "\n",
        "  for _, index in value_per_weight:\n",
        "\n",
        "    # keep picking the highest value-to-weight item until exceed the capacity\n",
        "    if items_wts[index] <= max_wt:\n",
        "\n",
        "      best_solution[index] = '1'\n",
        "      best_solution_price += items_prices[index]\n",
        "      max_wt -= items_wts[index]\n",
        "\n",
        "\n",
        "  return best_solution_price, best_solution\n"
      ]
    },
    {
      "cell_type": "markdown",
      "source": [
        "---------------------------------------"
      ],
      "metadata": {
        "id": "OWxhdiHnMQA4"
      }
    },
    {
      "cell_type": "code",
      "execution_count": null,
      "metadata": {
        "id": "QeS54aqAhwhU"
      },
      "outputs": [],
      "source": [
        "solutions_greedy = []\n",
        "for _, row in dataset.iterrows():\n",
        "    target = row['Best price']\n",
        "    solution, indexes = greedy(row)\n",
        "    solutions_greedy.append(1 if target == solution else 0)\n"
      ]
    },
    {
      "cell_type": "code",
      "execution_count": null,
      "metadata": {
        "colab": {
          "base_uri": "https://localhost:8080/"
        },
        "id": "xWqCDMs-h0SX",
        "outputId": "71fb6191-d1f2-44a5-eb76-1a452ebeb11f"
      },
      "outputs": [
        {
          "output_type": "stream",
          "name": "stdout",
          "text": [
            "Greedy Accuracy is 0.8342949691264298\n"
          ]
        }
      ],
      "source": [
        "print(\"Greedy Accuracy is\", np.mean(solutions_greedy))"
      ]
    },
    {
      "cell_type": "markdown",
      "source": [
        "\n",
        "\n",
        "---\n",
        "\n"
      ],
      "metadata": {
        "id": "9mGhBJVTMSv3"
      }
    },
    {
      "cell_type": "markdown",
      "metadata": {
        "id": "0DKep6e5-nuz"
      },
      "source": [
        "**RESULTS / ANALYSIS**\n",
        "---\n",
        "\n",
        "The greedy algorithm does not always result in the best solution because choosing values by their greedy solution may result in being unable to take a separate combination of multiple items, for which their combined price may exceed that of simply taking the item with the best ratio.\n",
        "\n",
        "Suppose we have a knapsack where each item has a capacity of 12 and items with the following prices and weights respectively: {100, 50, 60}, {8, 6, 6}. We see that the respective ratio of price to weights is: 10/8, 50/6 and 60/6, so we take the first item and include it into the knapsack using the greedy algorithm. However, we realize that the combination of taking the second and third items results in a greater price of 50 + 60 = 110 by not following the greedy algorithm. Because the greedy algorithm does not account for the capacity limitations, it will not always generate the optimal knapsack with the highest price."
      ]
    },
    {
      "cell_type": "markdown",
      "metadata": {
        "id": "XGBWQqlK-lra"
      },
      "source": [
        "\n",
        "------------------------------------------------------------------------------------------------"
      ]
    },
    {
      "cell_type": "markdown",
      "metadata": {
        "id": "PtDW2ja3R93S"
      },
      "source": [
        "# **6. Simulated Annealing**\n",
        "\n",
        "\n"
      ]
    },
    {
      "cell_type": "markdown",
      "source": [
        "The Simulated Annealing algorithm is a non-deterministic polynomial runtime algorithm that finds neighbouring solutions and compares it to an initial, random solution until the initial temperature reaches the minimum temperature specified. The runtime and accuracy is determined by primarily the cooling rate, or the rate at which the temperature decreases for every following iteration.\n",
        "\n",
        "In the simulated annealing, the algorithm begins by taking a random knapsack solution and continues iterations while the current temperature exceeds the minimum temperature. This implies that solutions for which a higher starting temperature inputted will result in higher accuracy but longer runtimes (due to the greater number of iterations needed to reduce it).\n",
        "\n",
        "During the iterations, a new solution is randomly calculated and its prices are compared to the current best solution. The accept function is used to check and update the solution when it is better than the old one, and the temperature is reduced by the cooling rate at the end of each iteration. This implies that a higher cooling rate will result in higher accuracy but longer runtimes, as it would take longer for the cooling rate to reduce the temperature below the minimum necessary to exit out the loop. Once the loop ends, the current best solution and its total price is then returned.\n"
      ],
      "metadata": {
        "id": "WBVz-GGCsSP2"
      }
    },
    {
      "cell_type": "code",
      "execution_count": null,
      "metadata": {
        "id": "7rFhuXedSF_3"
      },
      "outputs": [],
      "source": [
        "\n",
        "import random\n",
        "import math\n",
        "\n",
        "def rand_move(sol):\n",
        "  '''\n",
        "  Generate a new solution (neighbour solution) by picking/droping randomly item.\n",
        "\n",
        "  Input:\n",
        "    sol - the current solution.\n",
        "\n",
        "  Returns:\n",
        "    new_sol - the neighbour solution of the current solution.\n",
        "\n",
        "  '''\n",
        "  new_sol = sol\n",
        "  #random pick an index to modify\n",
        "  i = random.randint(0,len(new_sol)-1)\n",
        "  #drop if it's picked, and pick it if it's not\n",
        "  new_sol[i] = 1 if new_sol[i] == 0 else 0\n",
        "\n",
        "  return new_sol\n",
        "\n",
        "\n",
        "def calculate_fitness(items_wts, items_prices , sol, max_wt):\n",
        "  '''\n",
        "  The fitness function that use to calculate the fitness of the current solution.\n",
        "\n",
        "  Inputs:\n",
        "    items_wts - An array that contains the weight of each items.\n",
        "    items_prices - An array that contains the price of each items.\n",
        "    sol - the solution that need to calculate the fitness.\n",
        "    max_wt - the bag's capacity.\n",
        "\n",
        "  Returns:\n",
        "    p - the current prices of the solution.\n",
        "\n",
        "  '''\n",
        "  p = 0\n",
        "  w = 0\n",
        "\n",
        "  for i in range(len(sol)):\n",
        "    if sol[i] == 1:\n",
        "      p += items_prices[i]\n",
        "      w += items_wts[i]\n",
        "\n",
        "  # if the size exceeds the bag capacity\n",
        "  # it's fitness is set to 0 indicate this solution is not reachable\n",
        "  if w > max_wt:\n",
        "    p = 0\n",
        "\n",
        "  return p\n",
        "\n",
        "\n",
        "\n",
        "def accept(difference, t):\n",
        "  '''\n",
        "\n",
        "    The accept function. This function applies the algo on page 25 of lecture 'PopulationBased.'\n",
        "    If the new solution have a higher prices than the current, it is always accepted;\n",
        "    otherwise, it is accepted with a probability that increases as the difference increases and as the temperature decreases.\n",
        "\n",
        "    Inputs:\n",
        "      difference - The difference between the price of the new generated solution and the current solution\n",
        "      t - The current temperature\n",
        "    Returns:\n",
        "      Boolean value that indicates if the new solution is accepted or rejected\n",
        "  '''\n",
        "  #if candidate is better than curr solution then accept\n",
        "  #this happend when the differece is greater than 0\n",
        "  if difference > 0:\n",
        "    return True\n",
        "\n",
        "  #if not, then there's still a probability that we accect this solution\n",
        "  else:\n",
        "\n",
        "    r = random.random()\n",
        "    # accept with a acception probability\n",
        "    # the acception probability is calculated by using the e^(difference/t)\n",
        "    if r < math.exp((difference/t)):\n",
        "      return True\n",
        "    else:\n",
        "      return False\n",
        "\n",
        "\n",
        "def simulated_annealing(data, N, initial_temperature, cooling_rate):\n",
        "\n",
        "  '''\n",
        "    Solve the knapsack problem using simulated annealing by using the algo on page 24 of lecture 'PopulationBased.'\n",
        "\n",
        "    The algorithm starts with a random solution, then generates a neighbor solution by slightly modifying the current solution.\n",
        "    If the neighbor solution is better (has a higher price), it becomes the new current solution.\n",
        "    If the neighbor solution is worse, it may still become the new current solution with a certain probability,\n",
        "    which depends on the difference of the neighbor with the current and the current temperature.\n",
        "    The temperature is gradually decreased according to the cooling rate.\n",
        "\n",
        "    Inputs:\n",
        "      data - contains the infomation about the weights, costs, capacity of the knapsack problem\n",
        "      N - The number of time we repeat this algo. Since we are using the temperature and cooling rate as an iteration factor,\n",
        "          this variable is not considered.\n",
        "      initial_temperature - The initial temperature of the simulation.\n",
        "      cooling_rate - The percentage of the temperature will be reduce.\n",
        "\n",
        "    Returns:\n",
        "      best_solution_price - The best solution price of the current knapsack\n",
        "      best_solution - The best solution of the current knapsack\n",
        "  '''\n",
        "\n",
        "  #set the Tmax and Tmin\n",
        "  temp = initial_temperature\n",
        "  t_min = 0.01\n",
        "\n",
        "  #bag info\n",
        "  max_wt = data['Capacity']\n",
        "\n",
        "  #items info\n",
        "  items_wts = data['Weights']\n",
        "  items_prices = data['Prices']\n",
        "  num_items = len(items_prices)\n",
        "\n",
        "  # create a random initial permutation\n",
        "  best_solution = [random.randint(0, 1) for _ in range(num_items)]\n",
        "  best_solution_price = calculate_fitness(items_wts, items_prices, best_solution, max_wt)\n",
        "\n",
        "\n",
        "  while temp > t_min:\n",
        "\n",
        "    #generate a neighbour solution and calculating its fitness\n",
        "    new_sol = rand_move(best_solution)\n",
        "    new_price = calculate_fitness(items_wts, items_prices, new_sol, max_wt)\n",
        "\n",
        "    #calculate the difference\n",
        "    difference = new_price - best_solution_price\n",
        "\n",
        "    # decide to accept this solution or not\n",
        "    if accept(difference, temp):\n",
        "      best_solution = new_sol\n",
        "      best_solution_price = new_price\n",
        "\n",
        "    #reduces the temperature by the cooling rate\n",
        "    temp *= cooling_rate\n",
        "\n",
        "  return best_solution_price, best_solution\n"
      ]
    },
    {
      "cell_type": "markdown",
      "source": [
        "---"
      ],
      "metadata": {
        "id": "tBz9So4AMJ1K"
      }
    },
    {
      "cell_type": "code",
      "execution_count": null,
      "metadata": {
        "id": "mAWQLNsESNIZ"
      },
      "outputs": [],
      "source": [
        "solutions_sa = []\n",
        "for _, row in dataset.iterrows():\n",
        "    target = row['Best price']\n",
        "    solution, indexes = simulated_annealing(row, N = 10, initial_temperature=1, cooling_rate=0.95)\n",
        "    solutions_sa.append(1 if target == solution else 0)\n"
      ]
    },
    {
      "cell_type": "code",
      "execution_count": null,
      "metadata": {
        "colab": {
          "base_uri": "https://localhost:8080/"
        },
        "id": "jUdWEABkhkih",
        "outputId": "5d54e2d2-8f28-48f0-a87c-8dba61c70c4f"
      },
      "outputs": [
        {
          "output_type": "stream",
          "name": "stdout",
          "text": [
            "Simulated Annealing Accuracy is 0.9143638020042515\n"
          ]
        }
      ],
      "source": [
        "print(\"Simulated Annealing Accuracy is\", np.mean(solutions_sa))"
      ]
    },
    {
      "cell_type": "markdown",
      "source": [
        "\n",
        "---\n",
        "\n",
        "**Explore changing other parameters**"
      ],
      "metadata": {
        "id": "F0is_wrKRZ0o"
      }
    },
    {
      "cell_type": "markdown",
      "metadata": {
        "id": "7cFMHBMHqqBC"
      },
      "source": [
        "> Increase the initial temperature (initial temperature = 30)"
      ]
    },
    {
      "cell_type": "code",
      "execution_count": null,
      "metadata": {
        "id": "G4UtS1Pe4xYn"
      },
      "outputs": [],
      "source": [
        "solutions_sa = []\n",
        "for _, row in dataset.iterrows():\n",
        "    target = row['Best price']\n",
        "    #increace the initial_temperature\n",
        "    solution, indexes = simulated_annealing(row, N = 10, initial_temperature=30, cooling_rate=0.95)\n",
        "    solutions_sa.append(1 if target == solution else 0)\n"
      ]
    },
    {
      "cell_type": "code",
      "source": [
        "print(\"Simulated Annealing Accuracy is\", np.mean(solutions_sa))"
      ],
      "metadata": {
        "colab": {
          "base_uri": "https://localhost:8080/"
        },
        "id": "ALJHdRJ9vZ1X",
        "outputId": "b6aa1e2a-2682-4368-9fb4-d197b1218c17"
      },
      "execution_count": null,
      "outputs": [
        {
          "output_type": "stream",
          "name": "stdout",
          "text": [
            "Simulated Annealing Accuracy is 0.9590039477679927\n"
          ]
        }
      ]
    },
    {
      "cell_type": "markdown",
      "source": [
        "> Increase the cooling rate (cooling rate = 0.99)"
      ],
      "metadata": {
        "id": "X9YY9EJYw6Gh"
      }
    },
    {
      "cell_type": "code",
      "source": [
        "solutions_sa = []\n",
        "for _, row in dataset.iterrows():\n",
        "    target = row['Best price']\n",
        "    #increace the initial_temperature\n",
        "    solution, indexes = simulated_annealing(row, N = 10, initial_temperature=1, cooling_rate=0.99)\n",
        "    solutions_sa.append(1 if target == solution else 0)"
      ],
      "metadata": {
        "id": "j21-cphPw5dT"
      },
      "execution_count": null,
      "outputs": []
    },
    {
      "cell_type": "code",
      "source": [
        "print(\"Simulated Annealing Accuracy is\", np.mean(solutions_sa))"
      ],
      "metadata": {
        "colab": {
          "base_uri": "https://localhost:8080/"
        },
        "id": "LJ5Wr7p4xIbA",
        "outputId": "84a1aa64-c3c8-4c23-8a38-34e487182144"
      },
      "execution_count": null,
      "outputs": [
        {
          "output_type": "stream",
          "name": "stdout",
          "text": [
            "Simulated Annealing Accuracy is 1.0\n"
          ]
        }
      ]
    },
    {
      "cell_type": "markdown",
      "metadata": {
        "id": "-ufaSDLwqv54"
      },
      "source": [
        "> Increase both the initial temperature and the cooling rate (initial temperature = 30, cooling rate = 0.99)"
      ]
    },
    {
      "cell_type": "code",
      "execution_count": null,
      "metadata": {
        "id": "Yn-uyPDI5mtK"
      },
      "outputs": [],
      "source": [
        "solutions_sa = []\n",
        "for _, row in dataset.iterrows():\n",
        "    target = row['Best price']\n",
        "    solution, indexes = simulated_annealing(row, N = 10, initial_temperature=30, cooling_rate=0.99)\n",
        "    solutions_sa.append(1 if target == solution else 0)\n"
      ]
    },
    {
      "cell_type": "code",
      "source": [
        "print(\"Simulated Annealing Accuracy is\", np.mean(solutions_sa))"
      ],
      "metadata": {
        "colab": {
          "base_uri": "https://localhost:8080/"
        },
        "id": "0F59ZyravgQD",
        "outputId": "8a6f357b-4747-4fc5-fad1-91796ab3f505"
      },
      "execution_count": null,
      "outputs": [
        {
          "output_type": "stream",
          "name": "stdout",
          "text": [
            "Simulated Annealing Accuracy is 1.0\n"
          ]
        }
      ]
    },
    {
      "cell_type": "markdown",
      "metadata": {
        "id": "So69AaElq6vm"
      },
      "source": [
        "> Increase the initial temperature more but decrease the cooling rate(initial temperature = 50, cooling rate = 0.85)"
      ]
    },
    {
      "cell_type": "code",
      "execution_count": null,
      "metadata": {
        "id": "7BVGftB6qljO"
      },
      "outputs": [],
      "source": [
        "solutions_sa = []\n",
        "for _, row in dataset.iterrows():\n",
        "    target = row['Best price']\n",
        "    solution, indexes = simulated_annealing(row, N = 10, initial_temperature=50, cooling_rate=0.85)\n",
        "    solutions_sa.append(1 if target == solution else 0)\n"
      ]
    },
    {
      "cell_type": "code",
      "source": [
        "print(\"Simulated Annealing Accuracy is\", np.mean(solutions_sa))"
      ],
      "metadata": {
        "colab": {
          "base_uri": "https://localhost:8080/"
        },
        "id": "9RnRV3E2vr5d",
        "outputId": "42b8a5c7-5094-4158-abfa-a47277a59804"
      },
      "execution_count": null,
      "outputs": [
        {
          "output_type": "stream",
          "name": "stdout",
          "text": [
            "Simulated Annealing Accuracy is 0.6884300030367446\n"
          ]
        }
      ]
    },
    {
      "cell_type": "markdown",
      "source": [
        "---\n",
        "Defind the overall comparison graph\n",
        "---\n"
      ],
      "metadata": {
        "id": "ej-uD2dMaF2R"
      }
    },
    {
      "cell_type": "markdown",
      "source": [
        "`simulated_annealing(row, N = 10, initial_temperature=1, cooling_rate=0.95)`\n",
        "\n",
        "Use `initial_temperature=1, cooling_rate=0.95` as the default parameters find the change on one parameter affect the overall accuracy.\n",
        "\n",
        "The comparition graph will be used in the Comparative Study section"
      ],
      "metadata": {
        "id": "0X_MBxhQxCtU"
      }
    },
    {
      "cell_type": "code",
      "source": [
        "def change_in_cooling(replacement_cooling_rate):\n",
        "  '''\n",
        "  Calculate accuracy for the given cooling rate\n",
        "  '''\n",
        "  solutions_sa = []\n",
        "  for _, row in dataset.iterrows():\n",
        "    target = row['Best price']\n",
        "    solution, indexes = simulated_annealing(row, N = 10, initial_temperature=1, cooling_rate=replacement_cooling_rate)\n",
        "    solutions_sa.append(1 if target == solution else 0)\n",
        "\n",
        "  return np.mean(solutions_sa)\n",
        "\n",
        "def show_change_in_cooling():\n",
        "\n",
        "  '''\n",
        "    Display the comparition graph of the change in cooling rate affect the\n",
        "    Simulated Annealing Accuracy\n",
        "  '''\n",
        "  # Define a range of cooling rate (0.5 to 0.99)\n",
        "  # and select 20 samples in the range\n",
        "  x = np.linspace(0.5, 0.99, 20)\n",
        "  y = []\n",
        "\n",
        "  # calculate the result for each cooling_rate\n",
        "  for cooling_rate in x:\n",
        "    y.append(change_in_cooling(cooling_rate))\n",
        "\n",
        "  # Plot the data\n",
        "  plt.plot(x, y, 'b-')\n",
        "  # Add labels and title to the plot\n",
        "  plt.xlabel(\"Cooling Rate\")\n",
        "  plt.ylabel(\"Accuracy\")\n",
        "  plt.title('Plot of the Cooling Rate vs. Accuracy')\n",
        "  plt.show()\n",
        "\n",
        "def change_in_temp(replacement_temp):\n",
        "\n",
        "  '''\n",
        "  Calculate accuracy for the given temperature\n",
        "  '''\n",
        "  solutions_sa = []\n",
        "  for _, row in dataset.iterrows():\n",
        "    target = row['Best price']\n",
        "    solution, indexes = simulated_annealing(row, N = 10, initial_temperature=replacement_temp, cooling_rate=0.95)\n",
        "    solutions_sa.append(1 if target == solution else 0)\n",
        "\n",
        "  return np.mean(solutions_sa)\n",
        "\n",
        "def show_change_in_temp():\n",
        "  '''\n",
        "    Display the comparition graph of the change in temperature affect the\n",
        "    Simulated Annealing Accuracy\n",
        "  '''\n",
        "  # Define a range of temperature values (100 to 1000)\n",
        "  # and select 20 samples in the range\n",
        "  x = np.linspace(100, 1000, 20)\n",
        "  y = []\n",
        "\n",
        "  # calculate the result for each temperature\n",
        "  for temp in x:\n",
        "      accuracy = change_in_temp(temp)\n",
        "      y.append(accuracy)\n",
        "\n",
        "  # Plot the data\n",
        "  plt.plot(x, y, 'b-')\n",
        "\n",
        "  # Add labels and title to the plot\n",
        "  plt.xlabel(\"Temperature\")\n",
        "  plt.ylabel(\"Accuracy\")\n",
        "  plt.title('Plot of the Temperature vs. Accuracy')\n",
        "\n",
        "  # Display the plot\n",
        "  plt.show()"
      ],
      "metadata": {
        "id": "nC_aextxXQc5"
      },
      "execution_count": null,
      "outputs": []
    },
    {
      "cell_type": "markdown",
      "metadata": {
        "id": "PvvpYOOr-qqr"
      },
      "source": [
        "**RESULTS / ANALYSIS**\n",
        "--\n"
      ]
    },
    {
      "cell_type": "markdown",
      "source": [
        "From our standard configuration, where temperature is initially set to 1 and cooling is set to 0.95, the simulated annealing accuracy yields approximately 91.5%.\n",
        "\n",
        "From the results, increasing our initial temperature, appears to cause a higher accuracy but longer runtimes for reasons mentioned previously (greater number of iterations needed) increases the simulated annealing accuracy to 96.2%.\n",
        "\n",
        "However, upon further analysis by plotting the temperature versus accuracy, there is no correlation to increasing the initial temperature. This is because of the accept function condition: r < $e^{diff/T}$. Even if we increase the number of iterations by taking a higher initial temperature, it will cause $e^{diff/T}$ to scale closer to 1 and make it less likely to accept neighour solutions, which means less opportunities to achieve a global max as opposed to local max. So, this causes it to offscale with the advantages gained from more iterations, and ultimately results in no-correlation to accuracy, whether we increase the initial temperature or not.\n",
        "\n",
        "On the other hand, increasing the cooling rate does directly result in an increase in accuracy: in this case, to 100%. This applies to when the cooling and temperature because from our previous results as we understand that modifying temperature does not correlate to increasing accuracy. In this case, accuracy retains at 100%.\n",
        "\n",
        "However, in the last example, we notice that a decreased cooling rate of 0.85 while the temperature has increased to 50 has significantly dropped the simulated annealing accuracy to 69%. As previously mentioned, a lower cooling rate will directly correlate to less iterations because we modify the temperature by multiplying it by the cooling rate at the end of each iteration. As such, accuracy will be lessened with less iterations and a lower cooling rate."
      ],
      "metadata": {
        "id": "ASYrYIdrxMVf"
      }
    },
    {
      "cell_type": "markdown",
      "metadata": {
        "id": "n0QXt7Ys-rCc"
      },
      "source": [
        "------------------------------------------------------------------------------------------------"
      ]
    },
    {
      "cell_type": "markdown",
      "metadata": {
        "id": "RHYjBUvVhtGV"
      },
      "source": [
        "# **7. Genetic Algorithm**\n"
      ]
    },
    {
      "cell_type": "markdown",
      "source": [
        "\n",
        "The Genetic algorithm is a non-deterministic polynomial runtime algorithm that picks the best solution for each generation and has a randomized chance of either crossing solutions and mutating them afterwards. The runtime and accuracy is determined by primarily the cross rate and the mutation rate.\n",
        "\n",
        "In the genetic algorithm, a population, or set of knapsack solutions, is first generated based on the starting size inputted as the population: population_size. Then, we have two nested loops. The outer condition of the loop makes n iterations, whereas n represents the num_generations parameter that the function takes as an input. The inner while loop condition checks whether the number of populations generated is less than the population size of the function.\n",
        "\n",
        "Within the while loop, two solutions with best fitness that are chosen from a random set of solutions is generated as per the tournament_selection helper function. These two solutions, par1 and par2, are used as parent solutions and as inputs for the crossover function, in order to produce two children solutions ch1 and ch2. These child solutions then either perform a mutation or don’t, and appended to the new_gen array at the end.\n",
        "\n",
        "At the end, population is set to the new_gen, which contains all the children solutions that were appended.\n",
        "\n",
        "The best solution and max price for it is computed from running get_best_fitness on the population that was generated by appending child solutions during the iteration.\n"
      ],
      "metadata": {
        "id": "7hfdahR9sWbO"
      }
    },
    {
      "cell_type": "code",
      "execution_count": null,
      "metadata": {
        "id": "5kGKKUN8iP30"
      },
      "outputs": [],
      "source": [
        "import random\n",
        "\n",
        "def calculate_fitness(ind, prices, weights, capacity):\n",
        "\n",
        "  '''\n",
        "  The fitness function that use to calculate the fitness (price) of the current individual.\n",
        "\n",
        "  Inputs:\n",
        "    ind - the individual solution that need to calculate the fitness.\n",
        "    prices - An array that contains the price of each items.\n",
        "    weights - An array that contains the weight of each items.\n",
        "    capacity - the bag's capacity.\n",
        "\n",
        "  Returns:\n",
        "    fitness - the current prices of the individual.\n",
        "\n",
        "  '''\n",
        "  fitness = 0\n",
        "  w = 0\n",
        "\n",
        "  #calculating the fitness by calculating both the prices and weights\n",
        "  for i in range(len(ind)):\n",
        "    if ind[i] == 1:\n",
        "      fitness += prices[i]\n",
        "      w += weights[i]\n",
        "\n",
        "  # if the size exceeds the bag capacity\n",
        "  # it's fitness is set to 0 indicate this solution is not reachable\n",
        "  if w > capacity:\n",
        "    fitness = 0\n",
        "\n",
        "  return fitness\n",
        "\n",
        "\n",
        "def crossover(parent1, parent2, cross_rate):\n",
        "\n",
        "  '''\n",
        "  Perform a crossover operation on two parent sequences for a certain cross rate.\n",
        "  It takes two sequences (parent1 and parent2) as input and returns two new sequences (child1 and child2) as output.\n",
        "  The new sequences are created by applying one-point crossover from the parent sequences at a randomly chosen crossover point.\n",
        "\n",
        "  Inputs:\n",
        "      parent1 - The first parent sequence.\n",
        "      parent2 - The second parent sequence.\n",
        "      cross_rate - The rate of the two parent will perform a crossover.\n",
        "  Retruns:\n",
        "      child1 - The first child sequence.\n",
        "      child2 - The second child sequence.\n",
        "  '''\n",
        "\n",
        "  if random.random() < cross_rate:\n",
        "\n",
        "    # generate a random cross point\n",
        "    index = random.randint(0, len(parent1)-1)\n",
        "    # generate the new sequences\n",
        "    child1 = parent1[index:] + parent2[:index]\n",
        "    child2 = parent2[index:] + parent1[:index]\n",
        "\n",
        "    # if the 2 parent will not perform a crossover\n",
        "    # We will return back the two parent\n",
        "  else:\n",
        "    child1 = parent1\n",
        "    child2 = parent2\n",
        "\n",
        "  return child1, child2\n",
        "\n",
        "\n",
        "def mutation(child, mut_rate):\n",
        "  '''\n",
        "    Modify an element of an individual by a mutation rate.\n",
        "    The new sequence is created by randomly changing one or none of elements of the input sequence.\n",
        "\n",
        "    Inputs:\n",
        "      child - The input sequence to be mutated.\n",
        "      mut_rate - The rate of sequence flips at random positions.\n",
        "\n",
        "    Retruns:\n",
        "        child - The mutated sequence.\n",
        "\n",
        "  '''\n",
        "\n",
        "  if random.random() < mut_rate:\n",
        "    # randomly modified the element\n",
        "    # drop if it's picked, and pick it if it's not\n",
        "    index = random.randint(0, len(child)-1)\n",
        "    child[index] = 1 if child[index] == 0 else 0\n",
        "\n",
        "\n",
        "  return child\n",
        "\n",
        "\n",
        "def get_best_fitness(population, items_prices, items_wts, max_wt):\n",
        "\n",
        "  '''\n",
        "    Returns the individuals with best fitness among a population set.\n",
        "\n",
        "    Inputs:\n",
        "\n",
        "      population - The population of individuals.\n",
        "      items_prices - An array that contains the price of each items.\n",
        "      items_wts - An array that contains the weight of each items.\n",
        "      max_wt - The bag's capacity.\n",
        "\n",
        "    Returns:\n",
        "\n",
        "      best_fitness - The best fitness among the population.\n",
        "      best_individual - The best individual with the best fitness among the population.\n",
        "\n",
        "  '''\n",
        "  # calculate all the fitness for the individuals\n",
        "  fitness_set = [calculate_fitness(population[i], items_prices, items_wts, max_wt) for i in range(len(population))]\n",
        "\n",
        "  # find the index of the individuals with the best fitness\n",
        "  index = fitness_set.index(max(fitness_set))\n",
        "\n",
        "  #get the results\n",
        "  best_fitness = fitness_set[index]\n",
        "  best_individual = population[index]\n",
        "\n",
        "  return best_fitness, best_individual\n",
        "\n",
        "\n",
        "def tournament_selection(population, tournament_size, items_prices, items_wts, max_wt):\n",
        "\n",
        "  '''\n",
        "    Performs a tournament among a the individuals chosen at random from the population set\n",
        "    and returns the one with the best fitness among those random.\n",
        "\n",
        "    Inputs:\n",
        "      population -  The population of individuals.\n",
        "      tournament_size - The number of individuals participating in the tournament.\n",
        "      items_prices - An array that contains the price of each items.\n",
        "      items_wts - An array that contains the weight of each items.\n",
        "      max_wt - the bag's capacity.\n",
        "\n",
        "    Returns:\n",
        "      winner - The winner of the tournament.\n",
        "\n",
        "  '''\n",
        "  # select random k individuals from the population\n",
        "  tournament = [population[random.randint(0, len(population)-1)] for _ in range(tournament_size)]\n",
        "\n",
        "  # find the winner among the tournament\n",
        "  _, winner = get_best_fitness(tournament, items_prices, items_wts, max_wt)\n",
        "\n",
        "  return winner\n",
        "\n",
        "\n",
        "def genetic_algorithm(data, population_size, num_generations, mut_rate, cross_rate, tournament_size):\n",
        "\n",
        "  '''\n",
        "    Apply the genetic algorithm on a population of knapsack.\n",
        "    It generates a population and evolves using Tournament-Based Selection, crossover and mutation to generating the next generation.\n",
        "    The fittest individuals are selected for reproduction the next generation and replace the less fit individuals in the population.\n",
        "\n",
        "    Inputs:\n",
        "      data - contains the infomation about the weights, costs, capacity of the knapsack problem.\n",
        "      population_size -\n",
        "      num_generations - The number of generations to run the algorithm.\n",
        "      mut_rate - The rate at which mutations occur.\n",
        "      cross_rate - The rate at which crossover occur\n",
        "      tournament_size - The number of individuals participating in the tournament.\n",
        "\n",
        "    Returns:\n",
        "      best_solution_price - The best solution price of the current knapsack.\n",
        "      best_solution - The best solution of the current knapsack.\n",
        "  '''\n",
        "\n",
        "  best_solution = None\n",
        "  best_solution_price = 0\n",
        "\n",
        "  #box info\n",
        "  max_wt = data['Capacity']\n",
        "\n",
        "  #items info\n",
        "  items_wts = data['Weights']\n",
        "  items_prices = data['Prices']\n",
        "  num_items = len(items_prices)\n",
        "\n",
        "  # generate a total of population_size of individual\n",
        "  population = []\n",
        "\n",
        "  # this will be the first generation\n",
        "  for _ in range(population_size):\n",
        "    m = [random.randint(0, 1) for _ in range(num_items)]\n",
        "    population.append(m)\n",
        "\n",
        "\n",
        "  # produced the next generation\n",
        "  for generation in range(num_generations-1):\n",
        "\n",
        "    new_gen = []\n",
        "    population_count = 0\n",
        "\n",
        "    while population_count < population_size:\n",
        "\n",
        "      # apply the Tournament-Based Selection to select the parents\n",
        "      par1 = tournament_selection(population, tournament_size, items_prices, items_wts, max_wt)\n",
        "      par2 = tournament_selection(population, tournament_size, items_prices, items_wts, max_wt)\n",
        "\n",
        "      # Create the next generation through crossover\n",
        "      ch1, ch2 = crossover(par1, par2, cross_rate)\n",
        "\n",
        "      # Apply Mutate the child\n",
        "      ch1 = mutation(ch1, mut_rate)\n",
        "      ch2 = mutation(ch2, mut_rate)\n",
        "\n",
        "      # Add the children to the next generation\n",
        "      new_gen.append(ch1)\n",
        "      new_gen.append(ch2)\n",
        "\n",
        "      # increase the population count\n",
        "      population_count += 2\n",
        "\n",
        "    # replace the old generation with the new generation\n",
        "    population = new_gen\n",
        "\n",
        "  # find the best individual from the population\n",
        "  best_solution_price, best_solution = get_best_fitness(population, items_prices, items_wts, max_wt)\n",
        "\n",
        "  return best_solution_price, best_solution"
      ]
    },
    {
      "cell_type": "markdown",
      "source": [
        "\n",
        "---"
      ],
      "metadata": {
        "id": "OTrBlssjL_hN"
      }
    },
    {
      "cell_type": "code",
      "execution_count": null,
      "metadata": {
        "id": "5b4hBtUijZzg"
      },
      "outputs": [],
      "source": [
        "solutions_ga = []\n",
        "for _, row in dataset.iterrows():\n",
        "    target = row['Best price']\n",
        "    solution, indexes = genetic_algorithm(row, population_size = 50, num_generations = 50, mut_rate = 0.1, cross_rate = 0.7, tournament_size = 5)\n",
        "    solutions_ga.append(1 if target == solution else 0)\n"
      ]
    },
    {
      "cell_type": "code",
      "execution_count": null,
      "metadata": {
        "colab": {
          "base_uri": "https://localhost:8080/"
        },
        "id": "hJ3ceIHSs-W-",
        "outputId": "d2ffbb55-cca8-410d-84bf-23901db113cb"
      },
      "outputs": [
        {
          "output_type": "stream",
          "name": "stdout",
          "text": [
            "Genetic Algorithm Accuracy is 0.9934203866788136\n"
          ]
        }
      ],
      "source": [
        "print(\"Genetic Algorithm Accuracy is\", np.mean(solutions_ga))"
      ]
    },
    {
      "cell_type": "markdown",
      "source": [
        "---\n",
        "**Explore changing other parameters**"
      ],
      "metadata": {
        "id": "4QmRSwyiRrN2"
      }
    },
    {
      "cell_type": "markdown",
      "source": [
        "> Increase the cross rate (cross rate=0.9)"
      ],
      "metadata": {
        "id": "fAIuW7jB-hg9"
      }
    },
    {
      "cell_type": "code",
      "source": [
        "solutions_ga = []\n",
        "for _, row in dataset.iterrows():\n",
        "    target = row['Best price']\n",
        "    solution, indexes = genetic_algorithm(row, population_size = 50, num_generations = 50, mut_rate = 0.1, cross_rate = 0.9, tournament_size = 5)\n",
        "    solutions_ga.append(1 if target == solution else 0)"
      ],
      "metadata": {
        "id": "_tzJu0d3-h9b"
      },
      "execution_count": null,
      "outputs": []
    },
    {
      "cell_type": "code",
      "source": [
        "print(\"Genetic Algorithm Accuracy is\", np.mean(solutions_ga))"
      ],
      "metadata": {
        "colab": {
          "base_uri": "https://localhost:8080/"
        },
        "id": "UcFtiY-y-4TQ",
        "outputId": "476b44cf-15c0-47c7-fc14-c763621412dc"
      },
      "execution_count": null,
      "outputs": [
        {
          "output_type": "stream",
          "name": "stdout",
          "text": [
            "Genetic Algorithm Accuracy is 0.9679117319566758\n"
          ]
        }
      ]
    },
    {
      "cell_type": "markdown",
      "source": [
        "> Increase the mutation rate (mutation rate=0.3)"
      ],
      "metadata": {
        "id": "iKGbAJWEEX_n"
      }
    },
    {
      "cell_type": "code",
      "source": [
        "solutions_ga = []\n",
        "for _, row in dataset.iterrows():\n",
        "    target = row['Best price']\n",
        "    solution, indexes = genetic_algorithm(row, population_size = 50, num_generations = 50, mut_rate = 0.3, cross_rate = 0.7, tournament_size = 5)\n",
        "    solutions_ga.append(1 if target == solution else 0)"
      ],
      "metadata": {
        "id": "MoSXKVylP0s7"
      },
      "execution_count": null,
      "outputs": []
    },
    {
      "cell_type": "code",
      "source": [
        "print(\"Genetic Algorithm Accuracy is\", np.mean(solutions_ga))"
      ],
      "metadata": {
        "colab": {
          "base_uri": "https://localhost:8080/"
        },
        "id": "Nzt6GuDYP2GT",
        "outputId": "029b02fc-413f-417c-ab37-ca608920ed5b"
      },
      "execution_count": null,
      "outputs": [
        {
          "output_type": "stream",
          "name": "stdout",
          "text": [
            "Genetic Algorithm Accuracy is 0.9554610790565847\n"
          ]
        }
      ]
    },
    {
      "cell_type": "markdown",
      "metadata": {
        "id": "kD0zqwC67Y6j"
      },
      "source": [
        "> Increase both the cross rate and mutation rate (cross rate=0.9 , mutation rate=0.3)"
      ]
    },
    {
      "cell_type": "code",
      "execution_count": null,
      "metadata": {
        "id": "XBDiuKhO7XvL",
        "outputId": "cada161b-7538-439f-a1f4-dd7aff7b0994",
        "colab": {
          "base_uri": "https://localhost:8080/"
        }
      },
      "outputs": [
        {
          "output_type": "stream",
          "name": "stdout",
          "text": [
            "Genetic Algorithm Accuracy is 0.956675776900496\n"
          ]
        }
      ],
      "source": [
        "solutions_ga = []\n",
        "for _, row in dataset.iterrows():\n",
        "    target = row['Best price']\n",
        "    solution, indexes = genetic_algorithm(row, population_size = 50, num_generations = 50, mut_rate = 0.3, cross_rate = 0.9, tournament_size = 5)\n",
        "    solutions_ga.append(1 if target == solution else 0)\n",
        "print(\"Genetic Algorithm Accuracy is\", np.mean(solutions_ga))"
      ]
    },
    {
      "cell_type": "markdown",
      "metadata": {
        "id": "DnwRu9dh7ZT9"
      },
      "source": [
        "> Decrease both the cross rate and mutation rate (cross rate=0.5 , mutation rate=0.05)"
      ]
    },
    {
      "cell_type": "code",
      "execution_count": null,
      "metadata": {
        "id": "wDfJ4ByF7X-X"
      },
      "outputs": [],
      "source": [
        "solutions_ga = []\n",
        "for _, row in dataset.iterrows():\n",
        "    target = row['Best price']\n",
        "    solution, indexes = genetic_algorithm(row, population_size = 50, num_generations = 50, mut_rate = 0.05, cross_rate = 0.5, tournament_size = 5)\n",
        "    solutions_ga.append(1 if target == solution else 0)\n"
      ]
    },
    {
      "cell_type": "code",
      "source": [
        "print(\"Genetic Algorithm Accuracy is\", np.mean(solutions_ga))"
      ],
      "metadata": {
        "colab": {
          "base_uri": "https://localhost:8080/"
        },
        "id": "PMjl9sDgQMWD",
        "outputId": "de6aca7a-3513-4eed-f673-c56b1d0b8767"
      },
      "execution_count": null,
      "outputs": [
        {
          "output_type": "stream",
          "name": "stdout",
          "text": [
            "Genetic Algorithm Accuracy is 0.9807672841380707\n"
          ]
        }
      ]
    },
    {
      "cell_type": "markdown",
      "source": [
        "> Higher cross rate and low mutation rate (cross rate=0.99 , mutation rate=0.01)"
      ],
      "metadata": {
        "id": "WgDv-PgfSvR2"
      }
    },
    {
      "cell_type": "code",
      "source": [
        "solutions_ga = []\n",
        "for _, row in dataset.iterrows():\n",
        "    target = row['Best price']\n",
        "    solution, indexes = genetic_algorithm(row, population_size = 50, num_generations = 50, mut_rate = 0.01, cross_rate = 0.99, tournament_size = 5)\n",
        "    solutions_ga.append(1 if target == solution else 0)"
      ],
      "metadata": {
        "id": "7SXYlRI5TZOk"
      },
      "execution_count": null,
      "outputs": []
    },
    {
      "cell_type": "code",
      "source": [
        "print(\"Genetic Algorithm Accuracy is\", np.mean(solutions_ga))"
      ],
      "metadata": {
        "colab": {
          "base_uri": "https://localhost:8080/"
        },
        "id": "3CgyP-YqTalZ",
        "outputId": "671cd015-5521-4b60-822c-a8daa9cffdf8"
      },
      "execution_count": null,
      "outputs": [
        {
          "output_type": "stream",
          "name": "stdout",
          "text": [
            "Genetic Algorithm Accuracy is 0.861018321692479\n"
          ]
        }
      ]
    },
    {
      "cell_type": "markdown",
      "source": [
        "> Increase the tournament size (tournament_size = 10)"
      ],
      "metadata": {
        "id": "x7D5bdOKVK_X"
      }
    },
    {
      "cell_type": "code",
      "source": [
        "solutions_ga = []\n",
        "for _, row in dataset.iterrows():\n",
        "    target = row['Best price']\n",
        "    solution, indexes = genetic_algorithm(row, population_size = 50, num_generations = 50, mut_rate = 0.1, cross_rate = 0.7, tournament_size = 10)\n",
        "    solutions_ga.append(1 if target == solution else 0)"
      ],
      "metadata": {
        "id": "4oijpmLfVV2m"
      },
      "execution_count": null,
      "outputs": []
    },
    {
      "cell_type": "code",
      "source": [
        "print(\"Genetic Algorithm Accuracy is\", np.mean(solutions_ga))"
      ],
      "metadata": {
        "colab": {
          "base_uri": "https://localhost:8080/"
        },
        "id": "-mEErUrUVWjH",
        "outputId": "e2f43b66-1e88-4861-a277-44b7d03f8b75"
      },
      "execution_count": null,
      "outputs": [
        {
          "output_type": "stream",
          "name": "stdout",
          "text": [
            "Genetic Algorithm Accuracy is 0.9826905557242636\n"
          ]
        }
      ]
    },
    {
      "cell_type": "markdown",
      "source": [
        "> Reduce the population size(population_size = 20, Smaller than the solution space)"
      ],
      "metadata": {
        "id": "8WoxD9ki7f0n"
      }
    },
    {
      "cell_type": "code",
      "source": [
        "solutions_ga = []\n",
        "for _, row in dataset.iterrows():\n",
        "    target = row['Best price']\n",
        "    solution, indexes = genetic_algorithm(row, population_size = 20, num_generations = 50, mut_rate = 0.1, cross_rate = 0.7, tournament_size = 5)\n",
        "    solutions_ga.append(1 if target == solution else 0)"
      ],
      "metadata": {
        "id": "EMPRAhVR7meS"
      },
      "execution_count": null,
      "outputs": []
    },
    {
      "cell_type": "code",
      "source": [
        "print(\"Genetic Algorithm Accuracy is\", np.mean(solutions_ga))"
      ],
      "metadata": {
        "colab": {
          "base_uri": "https://localhost:8080/"
        },
        "id": "pH0XicZH7ny4",
        "outputId": "5d4220c1-2e1b-4f83-f896-6ca9e7040579"
      },
      "execution_count": null,
      "outputs": [
        {
          "output_type": "stream",
          "name": "stdout",
          "text": [
            "Genetic Algorithm Accuracy is 0.8862233019536391\n"
          ]
        }
      ]
    },
    {
      "cell_type": "markdown",
      "source": [
        "> Reduce the number of generations(num_generations = 20)"
      ],
      "metadata": {
        "id": "jTXPdkWV9g0B"
      }
    },
    {
      "cell_type": "code",
      "source": [
        "solutions_ga = []\n",
        "for _, row in dataset.iterrows():\n",
        "    target = row['Best price']\n",
        "    solution, indexes = genetic_algorithm(row, population_size = 50, num_generations = 20, mut_rate = 0.1, cross_rate = 0.7, tournament_size = 5)\n",
        "    solutions_ga.append(1 if target == solution else 0)"
      ],
      "metadata": {
        "id": "hEof97Jl9mz_"
      },
      "execution_count": null,
      "outputs": []
    },
    {
      "cell_type": "code",
      "source": [
        "print(\"Genetic Algorithm Accuracy is\", np.mean(solutions_ga))"
      ],
      "metadata": {
        "colab": {
          "base_uri": "https://localhost:8080/"
        },
        "id": "O-Tq-bq49oMw",
        "outputId": "c15edb6d-73b4-4fc8-cff4-7c3cb201e154"
      },
      "execution_count": null,
      "outputs": [
        {
          "output_type": "stream",
          "name": "stdout",
          "text": [
            "Genetic Algorithm Accuracy is 0.9876505719202349\n"
          ]
        }
      ]
    },
    {
      "cell_type": "markdown",
      "source": [
        "> Reduce the population size(population_size = 20) and increase the tournament size (tournament_size = 10)"
      ],
      "metadata": {
        "id": "6smYGdJb-e0f"
      }
    },
    {
      "cell_type": "code",
      "source": [
        "solutions_ga = []\n",
        "for _, row in dataset.iterrows():\n",
        "    target = row['Best price']\n",
        "    solution, indexes = genetic_algorithm(row, population_size = 20, num_generations = 50, mut_rate = 0.1, cross_rate = 0.7, tournament_size = 10)\n",
        "    solutions_ga.append(1 if target == solution else 0)"
      ],
      "metadata": {
        "id": "KfZAc_q4-r-V"
      },
      "execution_count": null,
      "outputs": []
    },
    {
      "cell_type": "code",
      "source": [
        "print(\"Genetic Algorithm Accuracy is\", np.mean(solutions_ga))"
      ],
      "metadata": {
        "colab": {
          "base_uri": "https://localhost:8080/"
        },
        "id": "3ErMRyxt-uiG",
        "outputId": "ae14ce5a-6ce5-4e5d-8e09-24567e702caf"
      },
      "execution_count": null,
      "outputs": [
        {
          "output_type": "stream",
          "name": "stdout",
          "text": [
            "Genetic Algorithm Accuracy is 0.8938151634780849\n"
          ]
        }
      ]
    },
    {
      "cell_type": "markdown",
      "source": [
        "---\n",
        "Defind the overall comparison graph\n",
        "---\n",
        "\n",
        "Use `population_size = 50, num_generations = 50, mut_rate = 0.1, cross_rate = 0.7, tournament_size = 5` as the default parameters find the change on one parameter affect the overall accuracy.\n",
        "\n",
        "**Declaring**: *The size of the data frame is reduced to **300** , by selecting the first 300 rows, in order to generate a faster result with using the genetic algorithm.*"
      ],
      "metadata": {
        "id": "1AdIboWZ89Is"
      }
    },
    {
      "cell_type": "code",
      "source": [
        "def change_parm(replace_mut_rate, replace_cross_rate, replace_population_size, replace_tournament_size, replace_num_generations):\n",
        "  '''\n",
        "    Calculate the result accarcy for each corresponding parameters to the genetic algorithm\n",
        "  '''\n",
        "  solutions_ga = []\n",
        "  for _, row in dataset.head(300).iterrows():\n",
        "      target = row['Best price']\n",
        "      solution, indexes = genetic_algorithm(row, population_size = replace_population_size, num_generations = replace_num_generations, mut_rate = replace_mut_rate, cross_rate = replace_cross_rate, tournament_size = replace_tournament_size)\n",
        "      solutions_ga.append(1 if target == solution else 0)\n",
        "\n",
        "  return np.mean(solutions_ga)\n",
        "\n",
        "def change_in_cross():\n",
        "  '''\n",
        "    Display the comparition graph of the change in cross rate affect the\n",
        "    Genetic Algorithm Accuracy\n",
        "  '''\n",
        "  #generate 10 data sample for the cross rate from range 0.1 to 0.99\n",
        "  x = np.linspace(0.1, 0.99, 10)\n",
        "  y = []\n",
        "\n",
        "  #find the result for each cross rate\n",
        "  for rate in x:\n",
        "      y.append(change_parm(0.1, rate, 50, 5, 50))\n",
        "\n",
        "  # plot and show the graph\n",
        "  plt.plot(x, y, 'b-')\n",
        "  plt.xlabel(\"Cross Rate\")\n",
        "  plt.ylabel(\"Accuracy\")\n",
        "  plt.title('Plot of the Cross Rate vs. Accuracy')\n",
        "  plt.show()\n",
        "\n",
        "def change_in_mutation():\n",
        "  '''\n",
        "    Display the comparition graph of the change in mutation rate affect the\n",
        "    Genetic Algorithm Accuracy\n",
        "  '''\n",
        "  #generate 10 data sample for the mutation rate from range 0.1 to 0.99\n",
        "  x = np.linspace(0.1, 0.99, 10)\n",
        "  y = []\n",
        "\n",
        "  #find the result for each mutation rate\n",
        "  for rate in x:\n",
        "      y.append(change_parm(rate, 0.7, 50, 5, 50))\n",
        "\n",
        "  # plot and show the graph\n",
        "  plt.plot(x, y, 'b-')\n",
        "  plt.xlabel(\"Mutation Rate\")\n",
        "  plt.ylabel(\"Accuracy\")\n",
        "  plt.title('Plot of the Mutation Rate vs. Accuracy')\n",
        "  plt.show()\n",
        "\n",
        "def change_in_population():\n",
        "\n",
        "  '''\n",
        "    Display the comparition graph of the change in population affect the\n",
        "    Genetic Algorithm Accuracy\n",
        "  '''\n",
        "  #generate 10 data sample for the population size from range 20 to 100\n",
        "  x = np.linspace(20, 100, 10)\n",
        "  y = []\n",
        "\n",
        "  #find the result for each population size\n",
        "  for population in x:\n",
        "      y.append(change_parm(0.1, 0.7, int(population), 5, 50))\n",
        "\n",
        "  # plot and show the graph\n",
        "  plt.plot(x, y, 'b-')\n",
        "  plt.xlabel(\"Population\")\n",
        "  plt.ylabel(\"Accuracy\")\n",
        "  plt.title('Plot of the Population vs. Accuracy')\n",
        "  plt.show()\n",
        "\n",
        "def change_in_tournament_size():\n",
        "\n",
        "  '''\n",
        "    Display the comparition graph of the change in tournament size affect the\n",
        "    Genetic Algorithm Accuracy\n",
        "  '''\n",
        "\n",
        "  #generate 10 data sample for the generation size from range 10 to 100\n",
        "  x = np.linspace(1, 10, 10)\n",
        "  y = []\n",
        "\n",
        "  #find the result for each generation size\n",
        "  for tournament_size in x:\n",
        "      y.append(change_parm(0.1, 0.7, 50, int(tournament_size), 50))\n",
        "\n",
        "  plt.plot(x, y, 'b-')\n",
        "  plt.xlabel(\"Tournament Size\")\n",
        "  plt.ylabel(\"Accuracy\")\n",
        "  plt.title('Plot of the Tournament Size vs. Accuracy')\n",
        "  plt.show()\n",
        "\n",
        "\n",
        "def change_in_generations_size():\n",
        "  '''\n",
        "    Display the comparition graph of the change in generation size affect the\n",
        "    Genetic Algorithm Accuracy\n",
        "  '''\n",
        "  #generate 10 data sample for the generation size from range 10 to 100\n",
        "  x = np.linspace(10, 100, 10)\n",
        "  y = []\n",
        "\n",
        "  #find the result for each generation size\n",
        "  for generations_size in x:\n",
        "      y.append(change_parm(0.1, 0.7, 50, 5, int(generations_size)))\n",
        "\n",
        "  # plot and show the graph\n",
        "  plt.plot(x, y, 'b-')\n",
        "  plt.xlabel(\"Generation Size\")\n",
        "  plt.ylabel(\"Accuracy\")\n",
        "  plt.title('Plot of the Generation Size vs. Accuracy')\n",
        "  plt.show()"
      ],
      "metadata": {
        "id": "dn1Nen2B8_8W"
      },
      "execution_count": null,
      "outputs": []
    },
    {
      "cell_type": "markdown",
      "source": [
        "The comparition graph will be used in the Comparative Study section\n",
        "\n",
        "\n",
        "---\n",
        "\n"
      ],
      "metadata": {
        "id": "C21k9_rMfLQa"
      }
    },
    {
      "cell_type": "markdown",
      "metadata": {
        "id": "5yn8KLah-xGF"
      },
      "source": [
        "**RESULTS / ANALYSIS**\n",
        "---\n",
        "The standard result uses a population size of 50, a num_generations of 50, mutation rate of 10% and cross rate of 70% and a tournament size of 5 and results in an accuracy of about 99.3%.\n",
        "\n",
        "Upon increasing either the mutation rate or cross rate, or both while keeping the other values constant, we notice that the accuracy decreases to roughly 95 or 96% (in this case, a cross rate of 90% and mutation rate of 30%).\n",
        "\n",
        "On the other hand, decreasing the mutation rate or cross rate, or both while keeping the other values constant increases the accuracy to about 98% (in the case of a cross rate of 50% and or mutation rate of 5%).\n",
        "\n",
        "These results imply that increasing or decreasing one or both of cross rate and mutation rate will cause an inverse effect on the accuracy of the algorithm. In the scope of a 5 item knapsack, less mutations and crossovers results in more global maximums being found, as opposed to local maximums.\n",
        "\n",
        "However, in the case where cross rate is increased whereas mutation rate is decreased, the accuracy reduces to 86.1%. This indicates that the increase in cross rate significantly outweighs the decrease in mutation rate, making cross rate a more important parameter over mutations for the variance in accuracy. This certainly makes sense, because crossover child solutions are composed of both halves of their parent solutions compared to a mutation, which only changes one element in the knapsack (from 0 to 1 or vice versa), which implies more inputs are changed as a result of a crossover than through a mutation.\n",
        "\n",
        "We will see from further analysis of the graphs generated that the cross rate is optimized at around 70% cross rate, whereas a lower mutation rate always corresponds to higher accuracy for foremost reasons listed.\n"
      ]
    },
    {
      "cell_type": "markdown",
      "metadata": {
        "id": "ekb0LOgF-xUN"
      },
      "source": [
        "------------------------------------------------------------------------------------------------"
      ]
    },
    {
      "cell_type": "markdown",
      "source": [
        "**Define the overall comparison graph along all the four algos**\n",
        "\n",
        "The accuracy that's used to compare is the standard result by using the default values."
      ],
      "metadata": {
        "id": "nMP0HE9f5vNJ"
      }
    },
    {
      "cell_type": "code",
      "source": [
        "def show_compare_graph():\n",
        "  '''\n",
        "  This function will display a bar graph of comparative results for the 4 algoithm\n",
        "  '''\n",
        "  # The result for each algo\n",
        "  algos = ['Generate and Test', 'Greedy Search', 'Simulated Annealing', 'Genetic algorithm']\n",
        "  values = [1, 0.8342, 0.91436, 0.99342]\n",
        "\n",
        "  # Adjust the spacing between each bar\n",
        "  custom_x_positions = np.arange(len(algos)) * 2\n",
        "  custom_x_labels = algos\n",
        "\n",
        "  # Create a bar graph with adjusted x-coordinates\n",
        "  plt.bar(custom_x_positions, values, width=1.0)  # Set width to 1.0 to maintain equal spacing\n",
        "\n",
        "  # Set custom x-ticks positions and labels\n",
        "  plt.xticks(custom_x_positions, custom_x_labels,rotation=45)\n",
        "\n",
        "  # Add labels and title\n",
        "  plt.xlabel('Algos')\n",
        "  plt.ylabel('Accuracy')\n",
        "  plt.title('Accuracy Comparison')\n",
        "\n",
        "  # Show the graph\n",
        "  plt.show()"
      ],
      "metadata": {
        "id": "Pjg_IR-S3L9P"
      },
      "execution_count": null,
      "outputs": []
    },
    {
      "cell_type": "markdown",
      "metadata": {
        "id": "NdO_H-4t-6mg"
      },
      "source": [
        "# **8. Comparative Study**\n"
      ]
    },
    {
      "cell_type": "code",
      "source": [
        "show_compare_graph()"
      ],
      "metadata": {
        "colab": {
          "base_uri": "https://localhost:8080/",
          "height": 570
        },
        "id": "85OS17yH1l6U",
        "outputId": "5d3c4eaf-383f-4646-95cd-26f19bb9e34b"
      },
      "execution_count": null,
      "outputs": [
        {
          "output_type": "display_data",
          "data": {
            "text/plain": [
              "<Figure size 640x480 with 1 Axes>"
            ],
            "image/png": "[encoded data removed]"
          },
          "metadata": {}
        }
      ]
    },
    {
      "cell_type": "markdown",
      "source": [
        "As we can see here, the four algorithms yield the following accuracies: the generate and test algorithm and the greedy algorithm achieve accuracies of 100% and 83.4%, respectively. Assuming a base value of temp = 1, cooling rate = 0.95 for simulated annealing, resulting in accuracy of 91.4% and population size = 50, num_generations = 50, mutation rate = 0.1, cross rate = 0.7 and tournament size = 5, resulting in 99.3% accuracy for genetic algorithm.\n"
      ],
      "metadata": {
        "id": "M8tDKCO-mwzj"
      }
    },
    {
      "cell_type": "markdown",
      "source": [
        "We understand that the brute force solution, while entirely accurate, runs in exponential time. The algorithm will guaranteed to find the optimal solution along with generating all the possible solution. However, it has exponential time complexity. The time needed to solve the knapsack problem escalates exponentially as the quantity of items increases.\n",
        "\n",
        "In addition, the greedy approach's accuracy of 83.43% which is the lowest accuracy among the algorithms. We understand that while greedy search runs in O(n log n) because we only need to sort the algorithm and perform a single iteration, it is much more prone to risk because it does not consider the capacity of storing the best price to weight items compared to storing multiple items that could result in a higher total price given the capacity of the knapsack. This means that greedy approach does not guaranteed to find the optimal solution in all cases.\n",
        "\n",
        "Thus, we try to look for a middleground where accuracy can be higher than the greedy algorithm, but for the algorithm itself to still run in polynomial time."
      ],
      "metadata": {
        "id": "O-_kmSqeeeXF"
      }
    },
    {
      "cell_type": "code",
      "source": [
        "# note: if the graph did not display correct result, please run the corresponding algorithm\n",
        "# and the graph function cell again then try to run the graph cell\n",
        "show_change_in_cooling()\n",
        "show_change_in_temp()"
      ],
      "metadata": {
        "colab": {
          "base_uri": "https://localhost:8080/",
          "height": 927
        },
        "id": "G1z-ntfjegSp",
        "outputId": "877c2b3f-d414-4549-e354-9c797f99fc16"
      },
      "execution_count": null,
      "outputs": [
        {
          "output_type": "display_data",
          "data": {
            "text/plain": [
              "<Figure size 640x480 with 1 Axes>"
            ],
            "image/png": "[encoded data removed]"
          },
          "metadata": {}
        },
        {
          "output_type": "display_data",
          "data": {
            "text/plain": [
              "<Figure size 640x480 with 1 Axes>"
            ],
            "image/png": "[encoded data removed]"
          },
          "metadata": {}
        }
      ]
    },
    {
      "cell_type": "markdown",
      "source": [
        "The first of which, simulated annealing, has an accuracy of 68% to 100% based on the configuration of the different values. Through our previous analysis regarding initial temperature, we understand that it is not a reliable indicator regardless of size because of the accept function's corresponding condition to accept a neighbour solution even when no difference between the current best solution and iterated solution's prices. The number of iterations increased by temperature substantially causes less neighouring solutions to be accepted at the same time, balancing out the differences gained.\n",
        "\n",
        "However, we do see from the corresponding graph above that a higher cooling rate, which only acts as a directly correlated value to the number of iteration, directly impacts the accuracy. The graph depicting the relationship between the cooling rate and accuracy shows a positive correlation, where an increase in the cooling rate corresponds to an increase in accuracy. A slower cooling allows the algorithm to traverse all the solution space. As the temperature drops, the likelihood of accepting function to accepts worse solutions diminishes, potentially leading to find the global optimal solution.\n",
        "This observation aligns with how the cooling rate affects the performance and convergence behavior of simulated annealing algorithms."
      ],
      "metadata": {
        "id": "IScfVzQUOmDp"
      }
    },
    {
      "cell_type": "markdown",
      "source": [
        "In comparison, genetic algorithm takes significantly more parameters. However, as detailed in the previous explanation and graphs below, we find that only cross rate and mutation rate have a significant impact to the accuracy of the algorithm. The range of accuracy change resulting from adjustments in the cross rate is quite extensive, spanning from 40% to 99%. In contrast, modifying the generation size yields a much narrower range, with accuracy change limited between 98% and 99%."
      ],
      "metadata": {
        "id": "TqN57tAJavS6"
      }
    },
    {
      "cell_type": "code",
      "source": [
        "change_in_population()\n",
        "change_in_tournament_size()"
      ],
      "metadata": {
        "colab": {
          "base_uri": "https://localhost:8080/",
          "height": 927
        },
        "id": "0HyfPxSjGn1C",
        "outputId": "e71a8e22-17a4-4662-a4ac-3c2f4545ad8e"
      },
      "execution_count": null,
      "outputs": [
        {
          "output_type": "display_data",
          "data": {
            "text/plain": [
              "<Figure size 640x480 with 1 Axes>"
            ],
            "image/png": "[encoded data removed]"
          },
          "metadata": {}
        },
        {
          "output_type": "display_data",
          "data": {
            "text/plain": [
              "<Figure size 640x480 with 1 Axes>"
            ],
            "image/png": "[encoded data removed]"
          },
          "metadata": {}
        }
      ]
    },
    {
      "cell_type": "markdown",
      "source": [
        "When the population size is reduced, the algorithm explores a smaller set of solutions in each generation. This can increase the likelihood of getting stuck in local maximum, especially if the diversity of the population is limited. As we increase the population size, the genetic algorithm has a higher probability of finding the optimal solution, leading up an accuracy cost to 1.\n",
        "\n",
        "On the other hand, it can be seen from the graph when using a low tournament size, typically ranging from 1 to 2, we tend to achieve lower accuracy. This is because there is a higher likelihood of selecting inferior solutions to produce the next generation. As the tournament size increases, our accuracy stabilizes at approximately 95% to 99%."
      ],
      "metadata": {
        "id": "MBa3vutwbMQq"
      }
    },
    {
      "cell_type": "code",
      "source": [
        "change_in_generations_size()"
      ],
      "metadata": {
        "colab": {
          "base_uri": "https://localhost:8080/",
          "height": 472
        },
        "id": "_S6jT3mOZTQj",
        "outputId": "214170a9-6cbf-4dad-a66b-8925ac9e74b4"
      },
      "execution_count": null,
      "outputs": [
        {
          "output_type": "display_data",
          "data": {
            "text/plain": [
              "<Figure size 640x480 with 1 Axes>"
            ],
            "image/png": "[encoded data removed]"
          },
          "metadata": {}
        }
      ]
    },
    {
      "cell_type": "markdown",
      "source": [
        "The change in generation size has the smallest impact on accuracy results, indicating that it is the least sensitive parameter in the genetic algorithm. This implies that we can still find the optimal solution by adjusting the total number of generations, either increasing or decreasing it, as long as the other parameters are within their optimal ranges for searching for the optimal solution."
      ],
      "metadata": {
        "id": "PNxMhchydlhl"
      }
    },
    {
      "cell_type": "code",
      "source": [
        "change_in_cross()\n",
        "change_in_mutation()"
      ],
      "metadata": {
        "colab": {
          "base_uri": "https://localhost:8080/",
          "height": 927
        },
        "id": "AuRN6cn2276_",
        "outputId": "5d0e6148-866a-47a4-f141-a52797f09898"
      },
      "execution_count": null,
      "outputs": [
        {
          "output_type": "display_data",
          "data": {
            "text/plain": [
              "<Figure size 640x480 with 1 Axes>"
            ],
            "image/png": "[encoded data removed]"
          },
          "metadata": {}
        },
        {
          "output_type": "display_data",
          "data": {
            "text/plain": [
              "<Figure size 640x480 with 1 Axes>"
            ],
            "image/png": "[encoded data removed]"
          },
          "metadata": {}
        }
      ]
    },
    {
      "cell_type": "markdown",
      "source": [
        "The crossover rate has the most significant impact on accuracy. When the crossover rate is lowered, it can reduce accuracy to as low as 40%, indicating a potential loss in the ability to improved solutions. When the crossover rate is increased to a specified range (60% to 70%), the genetic algorithm is effective at exploring the search space to able find the global optimal solution. However, increasing the crossover rate beyond this specific point may lead to a decrease in accuracy. This means that not all offspring of the parents will inherit favorable genetic traits, increasing the cross rate will likelihood increases the probability of generating inferior solutions in the next generation."
      ],
      "metadata": {
        "id": "ntXZcIxko-rc"
      }
    },
    {
      "cell_type": "markdown",
      "source": [
        "![Hill Climbing Example](https://media.geeksforgeeks.org/wp-content/cdn-uploads/20210726172958/objectfuntion.png)\n",
        "\n",
        "<footnote><i>Hill Climbing Example, from the graph we can see that if we reach the global maximum state, a neighour solution will cost us getting a downhill solution</i></footnote>\n",
        "\n",
        "<footnote>Source: <a href=\"https://www.geeksforgeeks.org/introduction-hill-climbing-artificial-intelligence/\">geeksforgeeks</footnote>\n"
      ],
      "metadata": {
        "id": "4NniFlBkoqHs"
      }
    },
    {
      "cell_type": "markdown",
      "source": [
        "The mutation rate, on the other hand, has a negative relationship with accuracy. When the mutation rate increases, accuracy decreases. This happens because mutation generates neighboring solutions of the current solution in the pursuit of an optimal solution. This can significantly increase the likelihood of the algorithm converging towards a downhill solution, which is a solution worse than the optimal one.\n",
        "\n",
        "We also understand that cross rate has a greater impact than mutation, because mutation only results in a neighour solution where only one of the values in a knapsack solution is caused, whereas crossing two solutions will split the parent solutions in half and merge them together. This means, there is significantly more potential for variance in this solution, leading to larger chances in accuracy.\n"
      ],
      "metadata": {
        "id": "cQX4CAPHetBT"
      }
    },
    {
      "cell_type": "markdown",
      "metadata": {
        "id": "4Ypp7TpkAIUe"
      },
      "source": [
        "--------------------------------------------------------------------------\n"
      ]
    },
    {
      "cell_type": "markdown",
      "metadata": {
        "id": "8Ikmq-si_23Y"
      },
      "source": [
        "# **9. Conclusion**\n"
      ]
    },
    {
      "cell_type": "markdown",
      "source": [
        "From our testing, we have come to understand that is it possible to obtain over 95%+ accuracy despite running an algorithm in polynomial time. Hence, there is no particular reason why we would choose the brute force or greedy solution assuming that N, the number of items in a knapsack solution is relatively small.\n",
        "\n",
        "When choosing between simulated annealing and genetic algorithm, we see that the accuracy among our range of chosen inputs results in an accuracy level of 68% to 100% for simulated annealing and 89% to 98% for genetic algorithm.\n",
        "\n",
        "Given the less variance and higher range for genetic algorithm, one may presume that it is preferred over simulated annealing, but that is not necessarily the case.\n",
        "\n",
        "In the case of simulated annealing, the user only needs to take the cooling rate into consideration. From our results, a cooling rate exceeding 95% will result in an 85% or better accuracy for the algorithm. In comparison, it is more difficult to maintain the genetic algorithm as both the cross rate and mutation rate modify the algorithm. In addition, the runtime, while polynomial will be higher than the simulated annealing because the number of generations and number of popluations are inputs that directly impact the number of iterations that the algorithm performs whereas the simulated annealing only tracks the decrease of the temperature by multiplying it by the cooling rate each iteration. The end result is often several minutes to compile the algorithms again.\n",
        "\n",
        "Since we understand this, our team suggests using a simulated annealing of at least 95% cooling rate to achieve high accuracy and substantial speed when working with knapsacks."
      ],
      "metadata": {
        "id": "3uTb-J6_o2L2"
      }
    },
    {
      "cell_type": "markdown",
      "metadata": {
        "id": "41s8gvCNABDy"
      },
      "source": [
        "--------------------------------------------------------------------------\n"
      ]
    },
    {
      "cell_type": "markdown",
      "metadata": {
        "id": "PtbOgI1q_9a0"
      },
      "source": [
        "# **10 References**\n",
        "\n",
        "1. Greedy Algorithm for 0-1 Knapsack: A Data Scientist’s Perspective | Saturn Cloud Blog. (2023, July 18). Saturncloud.io. https://saturncloud.io/blog/greedy-algorithm-for-01-knapsack-a-data-scientists-perspective/#:~:text=The%20Greedy%20Algorithm%20is%20a\n",
        "\n",
        "\n",
        "2. Simulated annealing. (2023, August 26). In Wikipedia. https://en.wikipedia.org/wiki/Simulated_annealing\n",
        "\n",
        "\n",
        "3. baeldung. (2023, March 26). Simulated Annealing Explained | Baeldung on Computer Science. Www.baeldung.com. https://www.baeldung.com/cs/simulated-annealing\n",
        "\n",
        "\n",
        "4. James D. McCaffrey. (2021, December 17). Knapsack Problem Using Simulated Annealing Example. James D. McCaffrey. https://jamesmccaffrey.wordpress.com/2021/12/17/knapsack-problem-using-simulated-annealing-example/\n",
        "\n",
        "\n",
        "5. Genetic algorithm. (2023, August 27). In Wikipedia. https://en.wikipedia.org/wiki/Genetic_algorithm\n",
        "\n",
        "\n",
        "6. Dorobek, M. (2020, March 24). Genetic Algorithm. Www.linkedin.com. https://www.linkedin.com/pulse/genetic-algorithm-mateusz-dorobek/\n",
        "\n",
        "\n",
        "7. Jacobson, L. (2013, August 20). Applying a genetic algorithm to the traveling salesman problem. Www.theprojectspot.com. https://www.theprojectspot.com/tutorial-post/applying-a-genetic-algorithm-to-the-travelling-salesman-problem/5\n",
        "\n",
        "\n",
        "8. CSI4106-PopulationBased [Lecture]. https://uottawa.brightspace.com/d2l/le/content/392261/viewContent/5543376/View\n",
        "\n",
        "\n",
        "9. Knapsack problem. (2023, September 18). In Wikipedia. https://en.wikipedia.org/wiki/Knapsack_problem\n",
        "\n",
        "10. Introduction to Hill Climbing | Artificial Intelligence. (2017, December 12). GeeksforGeeks. https://www.geeksforgeeks.org/introduction-hill-climbing-artificial-intelligence/"
      ]
    }
  ],
  "metadata": {
    "colab": {
      "provenance": [],
      "toc_visible": true,
      "include_colab_link": true
    },
    "kernelspec": {
      "display_name": "Python 3",
      "name": "python3"
    },
    "language_info": {
      "codemirror_mode": {
        "name": "ipython",
        "version": 3
      },
      "file_extension": ".py",
      "mimetype": "text/x-python",
      "name": "python",
      "nbconvert_exporter": "python",
      "pygments_lexer": "ipython3",
      "version": "3.9.7"
    },
    "orig_nbformat": 4,
    "accelerator": "TPU"
  },
  "nbformat": 4,
  "nbformat_minor": 0
}